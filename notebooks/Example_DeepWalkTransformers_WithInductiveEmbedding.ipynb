{
  "cells": [
    {
      "cell_type": "markdown",
      "metadata": {
        "id": "NHNw6UNJJJP2"
      },
      "source": [
        "# Dataset"
      ]
    },
    {
      "cell_type": "code",
      "execution_count": null,
      "metadata": {
        "colab": {
          "base_uri": "https://localhost:8080/"
        },
        "id": "WiHB6RRA60U5",
        "outputId": "df11c8b0-9982-4618-ed39-358dd3a5d237"
      },
      "outputs": [
        {
          "output_type": "stream",
          "name": "stdout",
          "text": [
            "--2022-09-27 01:50:35--  https://raw.githubusercontent.com/rmarcacini/text-collections/master/complete_texts_csvs/re8.csv\n",
            "Resolving raw.githubusercontent.com (raw.githubusercontent.com)... 185.199.108.133, 185.199.109.133, 185.199.110.133, ...\n",
            "Connecting to raw.githubusercontent.com (raw.githubusercontent.com)|185.199.108.133|:443... connected.\n",
            "HTTP request sent, awaiting response... 200 OK\n",
            "Length: 4649304 (4.4M) [text/plain]\n",
            "Saving to: ‘re8.csv’\n",
            "\n",
            "re8.csv             100%[===================>]   4.43M  --.-KB/s    in 0.01s   \n",
            "\n",
            "2022-09-27 01:50:37 (302 MB/s) - ‘re8.csv’ saved [4649304/4649304]\n",
            "\n"
          ]
        }
      ],
      "source": [
        "!wget https://raw.githubusercontent.com/rmarcacini/text-collections/master/complete_texts_csvs/re8.csv"
      ]
    },
    {
      "cell_type": "code",
      "source": [
        "# Importando manualemnte as bibliotecas necessarias pybind11 e graph-walker\n",
        "!pip install pybind11\n",
        "!pip install graph-walker\n",
        "!pip install git+https://github.com/AlvaroJoseLopes/Deep-Walk-Transformers.git@transductive-inductive"
      ],
      "metadata": {
        "colab": {
          "base_uri": "https://localhost:8080/"
        },
        "id": "2YqM6bcpv2Wj",
        "outputId": "3d917b7c-9d59-44bb-b5b3-a7d521080501"
      },
      "execution_count": null,
      "outputs": [
        {
          "output_type": "stream",
          "name": "stdout",
          "text": [
            "Looking in indexes: https://pypi.org/simple, https://us-python.pkg.dev/colab-wheels/public/simple/\n",
            "Collecting pybind11\n",
            "  Downloading pybind11-2.10.0-py3-none-any.whl (213 kB)\n",
            "\u001b[K     |████████████████████████████████| 213 kB 32.1 MB/s \n",
            "\u001b[?25hInstalling collected packages: pybind11\n",
            "Successfully installed pybind11-2.10.0\n",
            "Looking in indexes: https://pypi.org/simple, https://us-python.pkg.dev/colab-wheels/public/simple/\n",
            "Collecting graph-walker\n",
            "  Downloading graph-walker-1.0.6.tar.gz (6.5 kB)\n",
            "Requirement already satisfied: networkx in /usr/local/lib/python3.7/dist-packages (from graph-walker) (2.6.3)\n",
            "Requirement already satisfied: numpy in /usr/local/lib/python3.7/dist-packages (from graph-walker) (1.21.6)\n",
            "Requirement already satisfied: scipy in /usr/local/lib/python3.7/dist-packages (from graph-walker) (1.7.3)\n",
            "Requirement already satisfied: pybind11 in /usr/local/lib/python3.7/dist-packages (from graph-walker) (2.10.0)\n",
            "Requirement already satisfied: scikit-learn in /usr/local/lib/python3.7/dist-packages (from graph-walker) (1.0.2)\n",
            "Requirement already satisfied: joblib>=0.11 in /usr/local/lib/python3.7/dist-packages (from scikit-learn->graph-walker) (1.1.0)\n",
            "Requirement already satisfied: threadpoolctl>=2.0.0 in /usr/local/lib/python3.7/dist-packages (from scikit-learn->graph-walker) (3.1.0)\n",
            "Building wheels for collected packages: graph-walker\n",
            "  Building wheel for graph-walker (setup.py) ... \u001b[?25l\u001b[?25hdone\n",
            "  Created wheel for graph-walker: filename=graph_walker-1.0.6-cp37-cp37m-linux_x86_64.whl size=1009651 sha256=6e8f4471d861137d16e362ccbc3a3cfdae6ab4939cab3aa2cf4b8f71c69634e5\n",
            "  Stored in directory: /root/.cache/pip/wheels/1c/8e/23/fd6bb153064bb1f549a21a8ffef720aba09f01d4ae43866c5e\n",
            "Successfully built graph-walker\n",
            "Installing collected packages: graph-walker\n",
            "Successfully installed graph-walker-1.0.6\n",
            "Looking in indexes: https://pypi.org/simple, https://us-python.pkg.dev/colab-wheels/public/simple/\n",
            "Collecting git+https://github.com/AlvaroJoseLopes/Deep-Walk-Transformers.git@transductive-inductive\n",
            "  Cloning https://github.com/AlvaroJoseLopes/Deep-Walk-Transformers.git (to revision transductive-inductive) to /tmp/pip-req-build-ie822xzu\n",
            "  Running command git clone -q https://github.com/AlvaroJoseLopes/Deep-Walk-Transformers.git /tmp/pip-req-build-ie822xzu\n",
            "  Running command git checkout -b transductive-inductive --track origin/transductive-inductive\n",
            "  Switched to a new branch 'transductive-inductive'\n",
            "  Branch 'transductive-inductive' set up to track remote branch 'transductive-inductive' from 'origin'.\n",
            "Building wheels for collected packages: deep-walk-transformers\n",
            "  Building wheel for deep-walk-transformers (setup.py) ... \u001b[?25l\u001b[?25hdone\n",
            "  Created wheel for deep-walk-transformers: filename=deep_walk_transformers-0.1.0-py3-none-any.whl size=8147 sha256=9264d4c8f92802e8a5542a8b98618c2b3b66581357e746b727440d80463df419\n",
            "  Stored in directory: /tmp/pip-ephem-wheel-cache-fodt3xyu/wheels/8a/b3/91/76cd1d0aa677ea2c12c1a12f155b6b5fa28f1677ef362c5cc4\n",
            "Successfully built deep-walk-transformers\n",
            "Installing collected packages: deep-walk-transformers\n",
            "Successfully installed deep-walk-transformers-0.1.0\n"
          ]
        }
      ]
    },
    {
      "cell_type": "code",
      "source": [
        "from sklearn.cluster import KMeans\n",
        "import numpy as np\n",
        "from sklearn.metrics.cluster import normalized_mutual_info_score\n",
        "from sklearn.svm import LinearSVC\n",
        "from sklearn.model_selection import train_test_split\n",
        "from sklearn.metrics import classification_report\n",
        "import numpy as np\n",
        "from sklearn.manifold import TSNE\n",
        "import seaborn as sns\n",
        "import matplotlib\n",
        "import matplotlib.pyplot as plt\n",
        "\n",
        "def evaluate(df_embed, labels):\n",
        "    # avaliando com clustering\n",
        "    # kmeans = KMeans(n_clusters=len(np.unique(labels)), random_state=0).fit(df_emb_train)\n",
        "    # kmeans.labels_\n",
        "    # print('---> DeepWalk Transformers (clustering): ', normalized_mutual_info_score(kmeans.labels_, labels))\n",
        "\n",
        "    # avaliando com classificacao\n",
        "    print(\"\\n\\n\\n---> DeepWalk Transformers (classification)\")\n",
        "    clf_train, clf_test, clf_train_y, clf_test_y  = train_test_split(df_embed, labels, test_size=0.3, random_state=42)\n",
        "    clf = LinearSVC()\n",
        "    clf.fit(clf_train, clf_train_y)\n",
        "    print(classification_report(clf_test_y, clf.predict(clf_test)))"
      ],
      "metadata": {
        "id": "qLsHanquW5w4"
      },
      "execution_count": null,
      "outputs": []
    },
    {
      "cell_type": "code",
      "execution_count": null,
      "metadata": {
        "id": "YnRqsJ5j64e2",
        "colab": {
          "base_uri": "https://localhost:8080/",
          "height": 423
        },
        "outputId": "eb0129cb-a573-487c-c98f-1eaf5f45748c"
      },
      "outputs": [
        {
          "output_type": "execute_result",
          "data": {
            "text/plain": [
              "           file_name                                               text  class\n",
              "0       acq.4342.txt  mcdowell me to merger with interpharm inc mcdo...    acq\n",
              "1       acq.5302.txt  intermagnetics general inma completes buy inte...    acq\n",
              "2       acq.8530.txt  tesco extends hillards offer tesco plc tsco l ...    acq\n",
              "3       acq.3841.txt  healthvest hvt sells shares healthvest a maryl...    acq\n",
              "4       acq.6302.txt  cooper canada said it received takeover offers...    acq\n",
              "...              ...                                                ...    ...\n",
              "7669  trade.1829.txt  japan will not retaliate now against u s tarif...  trade\n",
              "7670  trade.4403.txt  koreans to buy billion dlrs in u s goods south...  trade\n",
              "7671  trade.6944.txt  belgolux trade swings into january deficit the...  trade\n",
              "7672  trade.7420.txt  nakasone to visit washington in late april pri...  trade\n",
              "7673  trade.5204.txt  baldrige warns of world trade war danger u s c...  trade\n",
              "\n",
              "[7674 rows x 3 columns]"
            ],
            "text/html": [
              "\n",
              "  <div id=\"df-5cfd339c-16ea-4100-8b1d-325d979cb11c\">\n",
              "    <div class=\"colab-df-container\">\n",
              "      <div>\n",
              "<style scoped>\n",
              "    .dataframe tbody tr th:only-of-type {\n",
              "        vertical-align: middle;\n",
              "    }\n",
              "\n",
              "    .dataframe tbody tr th {\n",
              "        vertical-align: top;\n",
              "    }\n",
              "\n",
              "    .dataframe thead th {\n",
              "        text-align: right;\n",
              "    }\n",
              "</style>\n",
              "<table border=\"1\" class=\"dataframe\">\n",
              "  <thead>\n",
              "    <tr style=\"text-align: right;\">\n",
              "      <th></th>\n",
              "      <th>file_name</th>\n",
              "      <th>text</th>\n",
              "      <th>class</th>\n",
              "    </tr>\n",
              "  </thead>\n",
              "  <tbody>\n",
              "    <tr>\n",
              "      <th>0</th>\n",
              "      <td>acq.4342.txt</td>\n",
              "      <td>mcdowell me to merger with interpharm inc mcdo...</td>\n",
              "      <td>acq</td>\n",
              "    </tr>\n",
              "    <tr>\n",
              "      <th>1</th>\n",
              "      <td>acq.5302.txt</td>\n",
              "      <td>intermagnetics general inma completes buy inte...</td>\n",
              "      <td>acq</td>\n",
              "    </tr>\n",
              "    <tr>\n",
              "      <th>2</th>\n",
              "      <td>acq.8530.txt</td>\n",
              "      <td>tesco extends hillards offer tesco plc tsco l ...</td>\n",
              "      <td>acq</td>\n",
              "    </tr>\n",
              "    <tr>\n",
              "      <th>3</th>\n",
              "      <td>acq.3841.txt</td>\n",
              "      <td>healthvest hvt sells shares healthvest a maryl...</td>\n",
              "      <td>acq</td>\n",
              "    </tr>\n",
              "    <tr>\n",
              "      <th>4</th>\n",
              "      <td>acq.6302.txt</td>\n",
              "      <td>cooper canada said it received takeover offers...</td>\n",
              "      <td>acq</td>\n",
              "    </tr>\n",
              "    <tr>\n",
              "      <th>...</th>\n",
              "      <td>...</td>\n",
              "      <td>...</td>\n",
              "      <td>...</td>\n",
              "    </tr>\n",
              "    <tr>\n",
              "      <th>7669</th>\n",
              "      <td>trade.1829.txt</td>\n",
              "      <td>japan will not retaliate now against u s tarif...</td>\n",
              "      <td>trade</td>\n",
              "    </tr>\n",
              "    <tr>\n",
              "      <th>7670</th>\n",
              "      <td>trade.4403.txt</td>\n",
              "      <td>koreans to buy billion dlrs in u s goods south...</td>\n",
              "      <td>trade</td>\n",
              "    </tr>\n",
              "    <tr>\n",
              "      <th>7671</th>\n",
              "      <td>trade.6944.txt</td>\n",
              "      <td>belgolux trade swings into january deficit the...</td>\n",
              "      <td>trade</td>\n",
              "    </tr>\n",
              "    <tr>\n",
              "      <th>7672</th>\n",
              "      <td>trade.7420.txt</td>\n",
              "      <td>nakasone to visit washington in late april pri...</td>\n",
              "      <td>trade</td>\n",
              "    </tr>\n",
              "    <tr>\n",
              "      <th>7673</th>\n",
              "      <td>trade.5204.txt</td>\n",
              "      <td>baldrige warns of world trade war danger u s c...</td>\n",
              "      <td>trade</td>\n",
              "    </tr>\n",
              "  </tbody>\n",
              "</table>\n",
              "<p>7674 rows × 3 columns</p>\n",
              "</div>\n",
              "      <button class=\"colab-df-convert\" onclick=\"convertToInteractive('df-5cfd339c-16ea-4100-8b1d-325d979cb11c')\"\n",
              "              title=\"Convert this dataframe to an interactive table.\"\n",
              "              style=\"display:none;\">\n",
              "        \n",
              "  <svg xmlns=\"http://www.w3.org/2000/svg\" height=\"24px\"viewBox=\"0 0 24 24\"\n",
              "       width=\"24px\">\n",
              "    <path d=\"M0 0h24v24H0V0z\" fill=\"none\"/>\n",
              "    <path d=\"M18.56 5.44l.94 2.06.94-2.06 2.06-.94-2.06-.94-.94-2.06-.94 2.06-2.06.94zm-11 1L8.5 8.5l.94-2.06 2.06-.94-2.06-.94L8.5 2.5l-.94 2.06-2.06.94zm10 10l.94 2.06.94-2.06 2.06-.94-2.06-.94-.94-2.06-.94 2.06-2.06.94z\"/><path d=\"M17.41 7.96l-1.37-1.37c-.4-.4-.92-.59-1.43-.59-.52 0-1.04.2-1.43.59L10.3 9.45l-7.72 7.72c-.78.78-.78 2.05 0 2.83L4 21.41c.39.39.9.59 1.41.59.51 0 1.02-.2 1.41-.59l7.78-7.78 2.81-2.81c.8-.78.8-2.07 0-2.86zM5.41 20L4 18.59l7.72-7.72 1.47 1.35L5.41 20z\"/>\n",
              "  </svg>\n",
              "      </button>\n",
              "      \n",
              "  <style>\n",
              "    .colab-df-container {\n",
              "      display:flex;\n",
              "      flex-wrap:wrap;\n",
              "      gap: 12px;\n",
              "    }\n",
              "\n",
              "    .colab-df-convert {\n",
              "      background-color: #E8F0FE;\n",
              "      border: none;\n",
              "      border-radius: 50%;\n",
              "      cursor: pointer;\n",
              "      display: none;\n",
              "      fill: #1967D2;\n",
              "      height: 32px;\n",
              "      padding: 0 0 0 0;\n",
              "      width: 32px;\n",
              "    }\n",
              "\n",
              "    .colab-df-convert:hover {\n",
              "      background-color: #E2EBFA;\n",
              "      box-shadow: 0px 1px 2px rgba(60, 64, 67, 0.3), 0px 1px 3px 1px rgba(60, 64, 67, 0.15);\n",
              "      fill: #174EA6;\n",
              "    }\n",
              "\n",
              "    [theme=dark] .colab-df-convert {\n",
              "      background-color: #3B4455;\n",
              "      fill: #D2E3FC;\n",
              "    }\n",
              "\n",
              "    [theme=dark] .colab-df-convert:hover {\n",
              "      background-color: #434B5C;\n",
              "      box-shadow: 0px 1px 3px 1px rgba(0, 0, 0, 0.15);\n",
              "      filter: drop-shadow(0px 1px 2px rgba(0, 0, 0, 0.3));\n",
              "      fill: #FFFFFF;\n",
              "    }\n",
              "  </style>\n",
              "\n",
              "      <script>\n",
              "        const buttonEl =\n",
              "          document.querySelector('#df-5cfd339c-16ea-4100-8b1d-325d979cb11c button.colab-df-convert');\n",
              "        buttonEl.style.display =\n",
              "          google.colab.kernel.accessAllowed ? 'block' : 'none';\n",
              "\n",
              "        async function convertToInteractive(key) {\n",
              "          const element = document.querySelector('#df-5cfd339c-16ea-4100-8b1d-325d979cb11c');\n",
              "          const dataTable =\n",
              "            await google.colab.kernel.invokeFunction('convertToInteractive',\n",
              "                                                     [key], {});\n",
              "          if (!dataTable) return;\n",
              "\n",
              "          const docLinkHtml = 'Like what you see? Visit the ' +\n",
              "            '<a target=\"_blank\" href=https://colab.research.google.com/notebooks/data_table.ipynb>data table notebook</a>'\n",
              "            + ' to learn more about interactive tables.';\n",
              "          element.innerHTML = '';\n",
              "          dataTable['output_type'] = 'display_data';\n",
              "          await google.colab.output.renderOutput(dataTable, element);\n",
              "          const docLink = document.createElement('div');\n",
              "          docLink.innerHTML = docLinkHtml;\n",
              "          element.appendChild(docLink);\n",
              "        }\n",
              "      </script>\n",
              "    </div>\n",
              "  </div>\n",
              "  "
            ]
          },
          "metadata": {},
          "execution_count": 39
        }
      ],
      "source": [
        "import pandas as pd \n",
        "\n",
        "df = pd.read_csv('re8.csv')\n",
        "df"
      ]
    },
    {
      "cell_type": "code",
      "execution_count": null,
      "metadata": {
        "id": "fBwhR1KeEK3o",
        "colab": {
          "base_uri": "https://localhost:8080/",
          "height": 423
        },
        "outputId": "1641086a-2c8d-4988-c603-44ffd11a3b69"
      },
      "outputs": [
        {
          "output_type": "execute_result",
          "data": {
            "text/plain": [
              "           file_name                                               text  \\\n",
              "0       acq.4342.txt  mcdowell me to merger with interpharm inc mcdo...   \n",
              "1       acq.5302.txt  intermagnetics general inma completes buy inte...   \n",
              "2       acq.8530.txt  tesco extends hillards offer tesco plc tsco l ...   \n",
              "3       acq.3841.txt  healthvest hvt sells shares healthvest a maryl...   \n",
              "4       acq.6302.txt  cooper canada said it received takeover offers...   \n",
              "...              ...                                                ...   \n",
              "7669  trade.1829.txt  japan will not retaliate now against u s tarif...   \n",
              "7670  trade.4403.txt  koreans to buy billion dlrs in u s goods south...   \n",
              "7671  trade.6944.txt  belgolux trade swings into january deficit the...   \n",
              "7672  trade.7420.txt  nakasone to visit washington in late april pri...   \n",
              "7673  trade.5204.txt  baldrige warns of world trade war danger u s c...   \n",
              "\n",
              "      class  label  \n",
              "0       acq      0  \n",
              "1       acq      0  \n",
              "2       acq      0  \n",
              "3       acq      0  \n",
              "4       acq      0  \n",
              "...     ...    ...  \n",
              "7669  trade      7  \n",
              "7670  trade      7  \n",
              "7671  trade      7  \n",
              "7672  trade      7  \n",
              "7673  trade      7  \n",
              "\n",
              "[7674 rows x 4 columns]"
            ],
            "text/html": [
              "\n",
              "  <div id=\"df-acb1cb63-6dde-42f8-b295-4ed16840f2aa\">\n",
              "    <div class=\"colab-df-container\">\n",
              "      <div>\n",
              "<style scoped>\n",
              "    .dataframe tbody tr th:only-of-type {\n",
              "        vertical-align: middle;\n",
              "    }\n",
              "\n",
              "    .dataframe tbody tr th {\n",
              "        vertical-align: top;\n",
              "    }\n",
              "\n",
              "    .dataframe thead th {\n",
              "        text-align: right;\n",
              "    }\n",
              "</style>\n",
              "<table border=\"1\" class=\"dataframe\">\n",
              "  <thead>\n",
              "    <tr style=\"text-align: right;\">\n",
              "      <th></th>\n",
              "      <th>file_name</th>\n",
              "      <th>text</th>\n",
              "      <th>class</th>\n",
              "      <th>label</th>\n",
              "    </tr>\n",
              "  </thead>\n",
              "  <tbody>\n",
              "    <tr>\n",
              "      <th>0</th>\n",
              "      <td>acq.4342.txt</td>\n",
              "      <td>mcdowell me to merger with interpharm inc mcdo...</td>\n",
              "      <td>acq</td>\n",
              "      <td>0</td>\n",
              "    </tr>\n",
              "    <tr>\n",
              "      <th>1</th>\n",
              "      <td>acq.5302.txt</td>\n",
              "      <td>intermagnetics general inma completes buy inte...</td>\n",
              "      <td>acq</td>\n",
              "      <td>0</td>\n",
              "    </tr>\n",
              "    <tr>\n",
              "      <th>2</th>\n",
              "      <td>acq.8530.txt</td>\n",
              "      <td>tesco extends hillards offer tesco plc tsco l ...</td>\n",
              "      <td>acq</td>\n",
              "      <td>0</td>\n",
              "    </tr>\n",
              "    <tr>\n",
              "      <th>3</th>\n",
              "      <td>acq.3841.txt</td>\n",
              "      <td>healthvest hvt sells shares healthvest a maryl...</td>\n",
              "      <td>acq</td>\n",
              "      <td>0</td>\n",
              "    </tr>\n",
              "    <tr>\n",
              "      <th>4</th>\n",
              "      <td>acq.6302.txt</td>\n",
              "      <td>cooper canada said it received takeover offers...</td>\n",
              "      <td>acq</td>\n",
              "      <td>0</td>\n",
              "    </tr>\n",
              "    <tr>\n",
              "      <th>...</th>\n",
              "      <td>...</td>\n",
              "      <td>...</td>\n",
              "      <td>...</td>\n",
              "      <td>...</td>\n",
              "    </tr>\n",
              "    <tr>\n",
              "      <th>7669</th>\n",
              "      <td>trade.1829.txt</td>\n",
              "      <td>japan will not retaliate now against u s tarif...</td>\n",
              "      <td>trade</td>\n",
              "      <td>7</td>\n",
              "    </tr>\n",
              "    <tr>\n",
              "      <th>7670</th>\n",
              "      <td>trade.4403.txt</td>\n",
              "      <td>koreans to buy billion dlrs in u s goods south...</td>\n",
              "      <td>trade</td>\n",
              "      <td>7</td>\n",
              "    </tr>\n",
              "    <tr>\n",
              "      <th>7671</th>\n",
              "      <td>trade.6944.txt</td>\n",
              "      <td>belgolux trade swings into january deficit the...</td>\n",
              "      <td>trade</td>\n",
              "      <td>7</td>\n",
              "    </tr>\n",
              "    <tr>\n",
              "      <th>7672</th>\n",
              "      <td>trade.7420.txt</td>\n",
              "      <td>nakasone to visit washington in late april pri...</td>\n",
              "      <td>trade</td>\n",
              "      <td>7</td>\n",
              "    </tr>\n",
              "    <tr>\n",
              "      <th>7673</th>\n",
              "      <td>trade.5204.txt</td>\n",
              "      <td>baldrige warns of world trade war danger u s c...</td>\n",
              "      <td>trade</td>\n",
              "      <td>7</td>\n",
              "    </tr>\n",
              "  </tbody>\n",
              "</table>\n",
              "<p>7674 rows × 4 columns</p>\n",
              "</div>\n",
              "      <button class=\"colab-df-convert\" onclick=\"convertToInteractive('df-acb1cb63-6dde-42f8-b295-4ed16840f2aa')\"\n",
              "              title=\"Convert this dataframe to an interactive table.\"\n",
              "              style=\"display:none;\">\n",
              "        \n",
              "  <svg xmlns=\"http://www.w3.org/2000/svg\" height=\"24px\"viewBox=\"0 0 24 24\"\n",
              "       width=\"24px\">\n",
              "    <path d=\"M0 0h24v24H0V0z\" fill=\"none\"/>\n",
              "    <path d=\"M18.56 5.44l.94 2.06.94-2.06 2.06-.94-2.06-.94-.94-2.06-.94 2.06-2.06.94zm-11 1L8.5 8.5l.94-2.06 2.06-.94-2.06-.94L8.5 2.5l-.94 2.06-2.06.94zm10 10l.94 2.06.94-2.06 2.06-.94-2.06-.94-.94-2.06-.94 2.06-2.06.94z\"/><path d=\"M17.41 7.96l-1.37-1.37c-.4-.4-.92-.59-1.43-.59-.52 0-1.04.2-1.43.59L10.3 9.45l-7.72 7.72c-.78.78-.78 2.05 0 2.83L4 21.41c.39.39.9.59 1.41.59.51 0 1.02-.2 1.41-.59l7.78-7.78 2.81-2.81c.8-.78.8-2.07 0-2.86zM5.41 20L4 18.59l7.72-7.72 1.47 1.35L5.41 20z\"/>\n",
              "  </svg>\n",
              "      </button>\n",
              "      \n",
              "  <style>\n",
              "    .colab-df-container {\n",
              "      display:flex;\n",
              "      flex-wrap:wrap;\n",
              "      gap: 12px;\n",
              "    }\n",
              "\n",
              "    .colab-df-convert {\n",
              "      background-color: #E8F0FE;\n",
              "      border: none;\n",
              "      border-radius: 50%;\n",
              "      cursor: pointer;\n",
              "      display: none;\n",
              "      fill: #1967D2;\n",
              "      height: 32px;\n",
              "      padding: 0 0 0 0;\n",
              "      width: 32px;\n",
              "    }\n",
              "\n",
              "    .colab-df-convert:hover {\n",
              "      background-color: #E2EBFA;\n",
              "      box-shadow: 0px 1px 2px rgba(60, 64, 67, 0.3), 0px 1px 3px 1px rgba(60, 64, 67, 0.15);\n",
              "      fill: #174EA6;\n",
              "    }\n",
              "\n",
              "    [theme=dark] .colab-df-convert {\n",
              "      background-color: #3B4455;\n",
              "      fill: #D2E3FC;\n",
              "    }\n",
              "\n",
              "    [theme=dark] .colab-df-convert:hover {\n",
              "      background-color: #434B5C;\n",
              "      box-shadow: 0px 1px 3px 1px rgba(0, 0, 0, 0.15);\n",
              "      filter: drop-shadow(0px 1px 2px rgba(0, 0, 0, 0.3));\n",
              "      fill: #FFFFFF;\n",
              "    }\n",
              "  </style>\n",
              "\n",
              "      <script>\n",
              "        const buttonEl =\n",
              "          document.querySelector('#df-acb1cb63-6dde-42f8-b295-4ed16840f2aa button.colab-df-convert');\n",
              "        buttonEl.style.display =\n",
              "          google.colab.kernel.accessAllowed ? 'block' : 'none';\n",
              "\n",
              "        async function convertToInteractive(key) {\n",
              "          const element = document.querySelector('#df-acb1cb63-6dde-42f8-b295-4ed16840f2aa');\n",
              "          const dataTable =\n",
              "            await google.colab.kernel.invokeFunction('convertToInteractive',\n",
              "                                                     [key], {});\n",
              "          if (!dataTable) return;\n",
              "\n",
              "          const docLinkHtml = 'Like what you see? Visit the ' +\n",
              "            '<a target=\"_blank\" href=https://colab.research.google.com/notebooks/data_table.ipynb>data table notebook</a>'\n",
              "            + ' to learn more about interactive tables.';\n",
              "          element.innerHTML = '';\n",
              "          dataTable['output_type'] = 'display_data';\n",
              "          await google.colab.output.renderOutput(dataTable, element);\n",
              "          const docLink = document.createElement('div');\n",
              "          docLink.innerHTML = docLinkHtml;\n",
              "          element.appendChild(docLink);\n",
              "        }\n",
              "      </script>\n",
              "    </div>\n",
              "  </div>\n",
              "  "
            ]
          },
          "metadata": {},
          "execution_count": 40
        }
      ],
      "source": [
        "df['label'] = df['class'].astype('category').cat.codes\n",
        "df"
      ]
    },
    {
      "cell_type": "code",
      "execution_count": null,
      "metadata": {
        "id": "Q5BLvn2BMN-u",
        "colab": {
          "base_uri": "https://localhost:8080/",
          "height": 423
        },
        "outputId": "aac7b329-92e6-465f-d18d-c0bafc491df7"
      },
      "outputs": [
        {
          "output_type": "execute_result",
          "data": {
            "text/plain": [
              "              file_name                                               text  \\\n",
              "0     interest.8060.txt  manufacturers hanover raises prime rate to pct...   \n",
              "1         earn.7162.txt  plains resources inc plns year loss oper shr l...   \n",
              "2         earn.1005.txt  bowater pretax profits rise mln stg shr p vs p...   \n",
              "3         earn.4828.txt  k mart corp km th qtr jan net shr dlrs vs nine...   \n",
              "4          acq.7244.txt  cross and trecker ctco buys automation unit cr...   \n",
              "...                 ...                                                ...   \n",
              "7669      earn.1610.txt  mark iv industries inc iv th qtr feb net shr c...   \n",
              "7670       acq.1960.txt  dresser industries inc to sell reliance standa...   \n",
              "7671      earn.8231.txt  bankamerica says it expects to report a profit...   \n",
              "7672      earn.4008.txt  quartz engineering and materials qrtz st qtr q...   \n",
              "7673      earn.8174.txt  helm resources inc h th qtr loss oper shr loss...   \n",
              "\n",
              "         class  label  \n",
              "0     interest      4  \n",
              "1         earn      2  \n",
              "2         earn      2  \n",
              "3         earn      2  \n",
              "4          acq      0  \n",
              "...        ...    ...  \n",
              "7669      earn      2  \n",
              "7670       acq      0  \n",
              "7671      earn      2  \n",
              "7672      earn      2  \n",
              "7673      earn      2  \n",
              "\n",
              "[7674 rows x 4 columns]"
            ],
            "text/html": [
              "\n",
              "  <div id=\"df-0ca921ac-6a7a-4462-8b22-7ea810b58044\">\n",
              "    <div class=\"colab-df-container\">\n",
              "      <div>\n",
              "<style scoped>\n",
              "    .dataframe tbody tr th:only-of-type {\n",
              "        vertical-align: middle;\n",
              "    }\n",
              "\n",
              "    .dataframe tbody tr th {\n",
              "        vertical-align: top;\n",
              "    }\n",
              "\n",
              "    .dataframe thead th {\n",
              "        text-align: right;\n",
              "    }\n",
              "</style>\n",
              "<table border=\"1\" class=\"dataframe\">\n",
              "  <thead>\n",
              "    <tr style=\"text-align: right;\">\n",
              "      <th></th>\n",
              "      <th>file_name</th>\n",
              "      <th>text</th>\n",
              "      <th>class</th>\n",
              "      <th>label</th>\n",
              "    </tr>\n",
              "  </thead>\n",
              "  <tbody>\n",
              "    <tr>\n",
              "      <th>0</th>\n",
              "      <td>interest.8060.txt</td>\n",
              "      <td>manufacturers hanover raises prime rate to pct...</td>\n",
              "      <td>interest</td>\n",
              "      <td>4</td>\n",
              "    </tr>\n",
              "    <tr>\n",
              "      <th>1</th>\n",
              "      <td>earn.7162.txt</td>\n",
              "      <td>plains resources inc plns year loss oper shr l...</td>\n",
              "      <td>earn</td>\n",
              "      <td>2</td>\n",
              "    </tr>\n",
              "    <tr>\n",
              "      <th>2</th>\n",
              "      <td>earn.1005.txt</td>\n",
              "      <td>bowater pretax profits rise mln stg shr p vs p...</td>\n",
              "      <td>earn</td>\n",
              "      <td>2</td>\n",
              "    </tr>\n",
              "    <tr>\n",
              "      <th>3</th>\n",
              "      <td>earn.4828.txt</td>\n",
              "      <td>k mart corp km th qtr jan net shr dlrs vs nine...</td>\n",
              "      <td>earn</td>\n",
              "      <td>2</td>\n",
              "    </tr>\n",
              "    <tr>\n",
              "      <th>4</th>\n",
              "      <td>acq.7244.txt</td>\n",
              "      <td>cross and trecker ctco buys automation unit cr...</td>\n",
              "      <td>acq</td>\n",
              "      <td>0</td>\n",
              "    </tr>\n",
              "    <tr>\n",
              "      <th>...</th>\n",
              "      <td>...</td>\n",
              "      <td>...</td>\n",
              "      <td>...</td>\n",
              "      <td>...</td>\n",
              "    </tr>\n",
              "    <tr>\n",
              "      <th>7669</th>\n",
              "      <td>earn.1610.txt</td>\n",
              "      <td>mark iv industries inc iv th qtr feb net shr c...</td>\n",
              "      <td>earn</td>\n",
              "      <td>2</td>\n",
              "    </tr>\n",
              "    <tr>\n",
              "      <th>7670</th>\n",
              "      <td>acq.1960.txt</td>\n",
              "      <td>dresser industries inc to sell reliance standa...</td>\n",
              "      <td>acq</td>\n",
              "      <td>0</td>\n",
              "    </tr>\n",
              "    <tr>\n",
              "      <th>7671</th>\n",
              "      <td>earn.8231.txt</td>\n",
              "      <td>bankamerica says it expects to report a profit...</td>\n",
              "      <td>earn</td>\n",
              "      <td>2</td>\n",
              "    </tr>\n",
              "    <tr>\n",
              "      <th>7672</th>\n",
              "      <td>earn.4008.txt</td>\n",
              "      <td>quartz engineering and materials qrtz st qtr q...</td>\n",
              "      <td>earn</td>\n",
              "      <td>2</td>\n",
              "    </tr>\n",
              "    <tr>\n",
              "      <th>7673</th>\n",
              "      <td>earn.8174.txt</td>\n",
              "      <td>helm resources inc h th qtr loss oper shr loss...</td>\n",
              "      <td>earn</td>\n",
              "      <td>2</td>\n",
              "    </tr>\n",
              "  </tbody>\n",
              "</table>\n",
              "<p>7674 rows × 4 columns</p>\n",
              "</div>\n",
              "      <button class=\"colab-df-convert\" onclick=\"convertToInteractive('df-0ca921ac-6a7a-4462-8b22-7ea810b58044')\"\n",
              "              title=\"Convert this dataframe to an interactive table.\"\n",
              "              style=\"display:none;\">\n",
              "        \n",
              "  <svg xmlns=\"http://www.w3.org/2000/svg\" height=\"24px\"viewBox=\"0 0 24 24\"\n",
              "       width=\"24px\">\n",
              "    <path d=\"M0 0h24v24H0V0z\" fill=\"none\"/>\n",
              "    <path d=\"M18.56 5.44l.94 2.06.94-2.06 2.06-.94-2.06-.94-.94-2.06-.94 2.06-2.06.94zm-11 1L8.5 8.5l.94-2.06 2.06-.94-2.06-.94L8.5 2.5l-.94 2.06-2.06.94zm10 10l.94 2.06.94-2.06 2.06-.94-2.06-.94-.94-2.06-.94 2.06-2.06.94z\"/><path d=\"M17.41 7.96l-1.37-1.37c-.4-.4-.92-.59-1.43-.59-.52 0-1.04.2-1.43.59L10.3 9.45l-7.72 7.72c-.78.78-.78 2.05 0 2.83L4 21.41c.39.39.9.59 1.41.59.51 0 1.02-.2 1.41-.59l7.78-7.78 2.81-2.81c.8-.78.8-2.07 0-2.86zM5.41 20L4 18.59l7.72-7.72 1.47 1.35L5.41 20z\"/>\n",
              "  </svg>\n",
              "      </button>\n",
              "      \n",
              "  <style>\n",
              "    .colab-df-container {\n",
              "      display:flex;\n",
              "      flex-wrap:wrap;\n",
              "      gap: 12px;\n",
              "    }\n",
              "\n",
              "    .colab-df-convert {\n",
              "      background-color: #E8F0FE;\n",
              "      border: none;\n",
              "      border-radius: 50%;\n",
              "      cursor: pointer;\n",
              "      display: none;\n",
              "      fill: #1967D2;\n",
              "      height: 32px;\n",
              "      padding: 0 0 0 0;\n",
              "      width: 32px;\n",
              "    }\n",
              "\n",
              "    .colab-df-convert:hover {\n",
              "      background-color: #E2EBFA;\n",
              "      box-shadow: 0px 1px 2px rgba(60, 64, 67, 0.3), 0px 1px 3px 1px rgba(60, 64, 67, 0.15);\n",
              "      fill: #174EA6;\n",
              "    }\n",
              "\n",
              "    [theme=dark] .colab-df-convert {\n",
              "      background-color: #3B4455;\n",
              "      fill: #D2E3FC;\n",
              "    }\n",
              "\n",
              "    [theme=dark] .colab-df-convert:hover {\n",
              "      background-color: #434B5C;\n",
              "      box-shadow: 0px 1px 3px 1px rgba(0, 0, 0, 0.15);\n",
              "      filter: drop-shadow(0px 1px 2px rgba(0, 0, 0, 0.3));\n",
              "      fill: #FFFFFF;\n",
              "    }\n",
              "  </style>\n",
              "\n",
              "      <script>\n",
              "        const buttonEl =\n",
              "          document.querySelector('#df-0ca921ac-6a7a-4462-8b22-7ea810b58044 button.colab-df-convert');\n",
              "        buttonEl.style.display =\n",
              "          google.colab.kernel.accessAllowed ? 'block' : 'none';\n",
              "\n",
              "        async function convertToInteractive(key) {\n",
              "          const element = document.querySelector('#df-0ca921ac-6a7a-4462-8b22-7ea810b58044');\n",
              "          const dataTable =\n",
              "            await google.colab.kernel.invokeFunction('convertToInteractive',\n",
              "                                                     [key], {});\n",
              "          if (!dataTable) return;\n",
              "\n",
              "          const docLinkHtml = 'Like what you see? Visit the ' +\n",
              "            '<a target=\"_blank\" href=https://colab.research.google.com/notebooks/data_table.ipynb>data table notebook</a>'\n",
              "            + ' to learn more about interactive tables.';\n",
              "          element.innerHTML = '';\n",
              "          dataTable['output_type'] = 'display_data';\n",
              "          await google.colab.output.renderOutput(dataTable, element);\n",
              "          const docLink = document.createElement('div');\n",
              "          docLink.innerHTML = docLinkHtml;\n",
              "          element.appendChild(docLink);\n",
              "        }\n",
              "      </script>\n",
              "    </div>\n",
              "  </div>\n",
              "  "
            ]
          },
          "metadata": {},
          "execution_count": 41
        }
      ],
      "source": [
        "df = df.sample(frac=1).reset_index(drop=True)\n",
        "df"
      ]
    },
    {
      "cell_type": "code",
      "execution_count": null,
      "metadata": {
        "id": "CVBbt4Pu7FLk",
        "colab": {
          "base_uri": "https://localhost:8080/"
        },
        "outputId": "a364e8fa-cf4c-4c29-f24a-9cd1ccc0ba9f"
      },
      "outputs": [
        {
          "output_type": "stream",
          "name": "stdout",
          "text": [
            "Looking in indexes: https://pypi.org/simple, https://us-python.pkg.dev/colab-wheels/public/simple/\n",
            "Requirement already satisfied: sentence-transformers in /usr/local/lib/python3.7/dist-packages (2.2.2)\n",
            "Requirement already satisfied: huggingface-hub>=0.4.0 in /usr/local/lib/python3.7/dist-packages (from sentence-transformers) (0.9.1)\n",
            "Requirement already satisfied: torchvision in /usr/local/lib/python3.7/dist-packages (from sentence-transformers) (0.13.1+cu113)\n",
            "Requirement already satisfied: torch>=1.6.0 in /usr/local/lib/python3.7/dist-packages (from sentence-transformers) (1.12.1+cu113)\n",
            "Requirement already satisfied: scikit-learn in /usr/local/lib/python3.7/dist-packages (from sentence-transformers) (1.0.2)\n",
            "Requirement already satisfied: tqdm in /usr/local/lib/python3.7/dist-packages (from sentence-transformers) (4.64.1)\n",
            "Requirement already satisfied: nltk in /usr/local/lib/python3.7/dist-packages (from sentence-transformers) (3.7)\n",
            "Requirement already satisfied: transformers<5.0.0,>=4.6.0 in /usr/local/lib/python3.7/dist-packages (from sentence-transformers) (4.22.1)\n",
            "Requirement already satisfied: numpy in /usr/local/lib/python3.7/dist-packages (from sentence-transformers) (1.21.6)\n",
            "Requirement already satisfied: scipy in /usr/local/lib/python3.7/dist-packages (from sentence-transformers) (1.7.3)\n",
            "Requirement already satisfied: sentencepiece in /usr/local/lib/python3.7/dist-packages (from sentence-transformers) (0.1.97)\n",
            "Requirement already satisfied: typing-extensions>=3.7.4.3 in /usr/local/lib/python3.7/dist-packages (from huggingface-hub>=0.4.0->sentence-transformers) (4.1.1)\n",
            "Requirement already satisfied: pyyaml>=5.1 in /usr/local/lib/python3.7/dist-packages (from huggingface-hub>=0.4.0->sentence-transformers) (6.0)\n",
            "Requirement already satisfied: packaging>=20.9 in /usr/local/lib/python3.7/dist-packages (from huggingface-hub>=0.4.0->sentence-transformers) (21.3)\n",
            "Requirement already satisfied: importlib-metadata in /usr/local/lib/python3.7/dist-packages (from huggingface-hub>=0.4.0->sentence-transformers) (4.12.0)\n",
            "Requirement already satisfied: requests in /usr/local/lib/python3.7/dist-packages (from huggingface-hub>=0.4.0->sentence-transformers) (2.23.0)\n",
            "Requirement already satisfied: filelock in /usr/local/lib/python3.7/dist-packages (from huggingface-hub>=0.4.0->sentence-transformers) (3.8.0)\n",
            "Requirement already satisfied: pyparsing!=3.0.5,>=2.0.2 in /usr/local/lib/python3.7/dist-packages (from packaging>=20.9->huggingface-hub>=0.4.0->sentence-transformers) (3.0.9)\n",
            "Requirement already satisfied: tokenizers!=0.11.3,<0.13,>=0.11.1 in /usr/local/lib/python3.7/dist-packages (from transformers<5.0.0,>=4.6.0->sentence-transformers) (0.12.1)\n",
            "Requirement already satisfied: regex!=2019.12.17 in /usr/local/lib/python3.7/dist-packages (from transformers<5.0.0,>=4.6.0->sentence-transformers) (2022.6.2)\n",
            "Requirement already satisfied: zipp>=0.5 in /usr/local/lib/python3.7/dist-packages (from importlib-metadata->huggingface-hub>=0.4.0->sentence-transformers) (3.8.1)\n",
            "Requirement already satisfied: click in /usr/local/lib/python3.7/dist-packages (from nltk->sentence-transformers) (7.1.2)\n",
            "Requirement already satisfied: joblib in /usr/local/lib/python3.7/dist-packages (from nltk->sentence-transformers) (1.1.0)\n",
            "Requirement already satisfied: chardet<4,>=3.0.2 in /usr/local/lib/python3.7/dist-packages (from requests->huggingface-hub>=0.4.0->sentence-transformers) (3.0.4)\n",
            "Requirement already satisfied: idna<3,>=2.5 in /usr/local/lib/python3.7/dist-packages (from requests->huggingface-hub>=0.4.0->sentence-transformers) (2.10)\n",
            "Requirement already satisfied: urllib3!=1.25.0,!=1.25.1,<1.26,>=1.21.1 in /usr/local/lib/python3.7/dist-packages (from requests->huggingface-hub>=0.4.0->sentence-transformers) (1.24.3)\n",
            "Requirement already satisfied: certifi>=2017.4.17 in /usr/local/lib/python3.7/dist-packages (from requests->huggingface-hub>=0.4.0->sentence-transformers) (2022.6.15)\n",
            "Requirement already satisfied: threadpoolctl>=2.0.0 in /usr/local/lib/python3.7/dist-packages (from scikit-learn->sentence-transformers) (3.1.0)\n",
            "Requirement already satisfied: pillow!=8.3.*,>=5.3.0 in /usr/local/lib/python3.7/dist-packages (from torchvision->sentence-transformers) (7.1.2)\n"
          ]
        }
      ],
      "source": [
        "!pip install -U sentence-transformers"
      ]
    },
    {
      "cell_type": "code",
      "execution_count": null,
      "metadata": {
        "id": "o2lgGLZF7RbQ"
      },
      "outputs": [],
      "source": [
        "from sentence_transformers import SentenceTransformer\n",
        "model = SentenceTransformer('paraphrase-MiniLM-L6-v2')\n",
        "\n",
        "\n",
        "embeddings = model.encode(df.text.to_list())\n"
      ]
    },
    {
      "cell_type": "code",
      "execution_count": null,
      "metadata": {
        "id": "16Y5FQs872ed",
        "colab": {
          "base_uri": "https://localhost:8080/",
          "height": 423
        },
        "outputId": "190eeab1-9fca-43ae-c8a5-96acd622b348"
      },
      "outputs": [
        {
          "output_type": "execute_result",
          "data": {
            "text/plain": [
              "              file_name                                               text  \\\n",
              "0     interest.8060.txt  manufacturers hanover raises prime rate to pct...   \n",
              "1         earn.7162.txt  plains resources inc plns year loss oper shr l...   \n",
              "2         earn.1005.txt  bowater pretax profits rise mln stg shr p vs p...   \n",
              "3         earn.4828.txt  k mart corp km th qtr jan net shr dlrs vs nine...   \n",
              "4          acq.7244.txt  cross and trecker ctco buys automation unit cr...   \n",
              "...                 ...                                                ...   \n",
              "7669      earn.1610.txt  mark iv industries inc iv th qtr feb net shr c...   \n",
              "7670       acq.1960.txt  dresser industries inc to sell reliance standa...   \n",
              "7671      earn.8231.txt  bankamerica says it expects to report a profit...   \n",
              "7672      earn.4008.txt  quartz engineering and materials qrtz st qtr q...   \n",
              "7673      earn.8174.txt  helm resources inc h th qtr loss oper shr loss...   \n",
              "\n",
              "         class  label                                         embeddings  \n",
              "0     interest      4  [0.18047659, 0.054866698, -0.17309445, -0.0793...  \n",
              "1         earn      2  [-0.41636795, -0.28153813, 0.3372412, 0.198546...  \n",
              "2         earn      2  [-0.1106405, -0.3601423, 0.119532526, 0.118693...  \n",
              "3         earn      2  [-0.23541678, -0.22261766, 0.18609327, 0.03702...  \n",
              "4          acq      0  [-0.5418358, -0.47537577, -0.16464068, -0.1087...  \n",
              "...        ...    ...                                                ...  \n",
              "7669      earn      2  [-0.26570106, -0.094836526, 0.25246245, -0.088...  \n",
              "7670       acq      0  [-0.23070066, -0.11237226, -0.30124414, 0.2537...  \n",
              "7671      earn      2  [0.00041876634, -0.4683203, -0.4928435, 0.3928...  \n",
              "7672      earn      2  [-0.84322715, 0.3820039, 0.2672522, 0.42805243...  \n",
              "7673      earn      2  [-0.58914554, -0.03898318, 0.24670829, 0.07128...  \n",
              "\n",
              "[7674 rows x 5 columns]"
            ],
            "text/html": [
              "\n",
              "  <div id=\"df-830296b1-672f-4087-b149-5ebc0aeac4a4\">\n",
              "    <div class=\"colab-df-container\">\n",
              "      <div>\n",
              "<style scoped>\n",
              "    .dataframe tbody tr th:only-of-type {\n",
              "        vertical-align: middle;\n",
              "    }\n",
              "\n",
              "    .dataframe tbody tr th {\n",
              "        vertical-align: top;\n",
              "    }\n",
              "\n",
              "    .dataframe thead th {\n",
              "        text-align: right;\n",
              "    }\n",
              "</style>\n",
              "<table border=\"1\" class=\"dataframe\">\n",
              "  <thead>\n",
              "    <tr style=\"text-align: right;\">\n",
              "      <th></th>\n",
              "      <th>file_name</th>\n",
              "      <th>text</th>\n",
              "      <th>class</th>\n",
              "      <th>label</th>\n",
              "      <th>embeddings</th>\n",
              "    </tr>\n",
              "  </thead>\n",
              "  <tbody>\n",
              "    <tr>\n",
              "      <th>0</th>\n",
              "      <td>interest.8060.txt</td>\n",
              "      <td>manufacturers hanover raises prime rate to pct...</td>\n",
              "      <td>interest</td>\n",
              "      <td>4</td>\n",
              "      <td>[0.18047659, 0.054866698, -0.17309445, -0.0793...</td>\n",
              "    </tr>\n",
              "    <tr>\n",
              "      <th>1</th>\n",
              "      <td>earn.7162.txt</td>\n",
              "      <td>plains resources inc plns year loss oper shr l...</td>\n",
              "      <td>earn</td>\n",
              "      <td>2</td>\n",
              "      <td>[-0.41636795, -0.28153813, 0.3372412, 0.198546...</td>\n",
              "    </tr>\n",
              "    <tr>\n",
              "      <th>2</th>\n",
              "      <td>earn.1005.txt</td>\n",
              "      <td>bowater pretax profits rise mln stg shr p vs p...</td>\n",
              "      <td>earn</td>\n",
              "      <td>2</td>\n",
              "      <td>[-0.1106405, -0.3601423, 0.119532526, 0.118693...</td>\n",
              "    </tr>\n",
              "    <tr>\n",
              "      <th>3</th>\n",
              "      <td>earn.4828.txt</td>\n",
              "      <td>k mart corp km th qtr jan net shr dlrs vs nine...</td>\n",
              "      <td>earn</td>\n",
              "      <td>2</td>\n",
              "      <td>[-0.23541678, -0.22261766, 0.18609327, 0.03702...</td>\n",
              "    </tr>\n",
              "    <tr>\n",
              "      <th>4</th>\n",
              "      <td>acq.7244.txt</td>\n",
              "      <td>cross and trecker ctco buys automation unit cr...</td>\n",
              "      <td>acq</td>\n",
              "      <td>0</td>\n",
              "      <td>[-0.5418358, -0.47537577, -0.16464068, -0.1087...</td>\n",
              "    </tr>\n",
              "    <tr>\n",
              "      <th>...</th>\n",
              "      <td>...</td>\n",
              "      <td>...</td>\n",
              "      <td>...</td>\n",
              "      <td>...</td>\n",
              "      <td>...</td>\n",
              "    </tr>\n",
              "    <tr>\n",
              "      <th>7669</th>\n",
              "      <td>earn.1610.txt</td>\n",
              "      <td>mark iv industries inc iv th qtr feb net shr c...</td>\n",
              "      <td>earn</td>\n",
              "      <td>2</td>\n",
              "      <td>[-0.26570106, -0.094836526, 0.25246245, -0.088...</td>\n",
              "    </tr>\n",
              "    <tr>\n",
              "      <th>7670</th>\n",
              "      <td>acq.1960.txt</td>\n",
              "      <td>dresser industries inc to sell reliance standa...</td>\n",
              "      <td>acq</td>\n",
              "      <td>0</td>\n",
              "      <td>[-0.23070066, -0.11237226, -0.30124414, 0.2537...</td>\n",
              "    </tr>\n",
              "    <tr>\n",
              "      <th>7671</th>\n",
              "      <td>earn.8231.txt</td>\n",
              "      <td>bankamerica says it expects to report a profit...</td>\n",
              "      <td>earn</td>\n",
              "      <td>2</td>\n",
              "      <td>[0.00041876634, -0.4683203, -0.4928435, 0.3928...</td>\n",
              "    </tr>\n",
              "    <tr>\n",
              "      <th>7672</th>\n",
              "      <td>earn.4008.txt</td>\n",
              "      <td>quartz engineering and materials qrtz st qtr q...</td>\n",
              "      <td>earn</td>\n",
              "      <td>2</td>\n",
              "      <td>[-0.84322715, 0.3820039, 0.2672522, 0.42805243...</td>\n",
              "    </tr>\n",
              "    <tr>\n",
              "      <th>7673</th>\n",
              "      <td>earn.8174.txt</td>\n",
              "      <td>helm resources inc h th qtr loss oper shr loss...</td>\n",
              "      <td>earn</td>\n",
              "      <td>2</td>\n",
              "      <td>[-0.58914554, -0.03898318, 0.24670829, 0.07128...</td>\n",
              "    </tr>\n",
              "  </tbody>\n",
              "</table>\n",
              "<p>7674 rows × 5 columns</p>\n",
              "</div>\n",
              "      <button class=\"colab-df-convert\" onclick=\"convertToInteractive('df-830296b1-672f-4087-b149-5ebc0aeac4a4')\"\n",
              "              title=\"Convert this dataframe to an interactive table.\"\n",
              "              style=\"display:none;\">\n",
              "        \n",
              "  <svg xmlns=\"http://www.w3.org/2000/svg\" height=\"24px\"viewBox=\"0 0 24 24\"\n",
              "       width=\"24px\">\n",
              "    <path d=\"M0 0h24v24H0V0z\" fill=\"none\"/>\n",
              "    <path d=\"M18.56 5.44l.94 2.06.94-2.06 2.06-.94-2.06-.94-.94-2.06-.94 2.06-2.06.94zm-11 1L8.5 8.5l.94-2.06 2.06-.94-2.06-.94L8.5 2.5l-.94 2.06-2.06.94zm10 10l.94 2.06.94-2.06 2.06-.94-2.06-.94-.94-2.06-.94 2.06-2.06.94z\"/><path d=\"M17.41 7.96l-1.37-1.37c-.4-.4-.92-.59-1.43-.59-.52 0-1.04.2-1.43.59L10.3 9.45l-7.72 7.72c-.78.78-.78 2.05 0 2.83L4 21.41c.39.39.9.59 1.41.59.51 0 1.02-.2 1.41-.59l7.78-7.78 2.81-2.81c.8-.78.8-2.07 0-2.86zM5.41 20L4 18.59l7.72-7.72 1.47 1.35L5.41 20z\"/>\n",
              "  </svg>\n",
              "      </button>\n",
              "      \n",
              "  <style>\n",
              "    .colab-df-container {\n",
              "      display:flex;\n",
              "      flex-wrap:wrap;\n",
              "      gap: 12px;\n",
              "    }\n",
              "\n",
              "    .colab-df-convert {\n",
              "      background-color: #E8F0FE;\n",
              "      border: none;\n",
              "      border-radius: 50%;\n",
              "      cursor: pointer;\n",
              "      display: none;\n",
              "      fill: #1967D2;\n",
              "      height: 32px;\n",
              "      padding: 0 0 0 0;\n",
              "      width: 32px;\n",
              "    }\n",
              "\n",
              "    .colab-df-convert:hover {\n",
              "      background-color: #E2EBFA;\n",
              "      box-shadow: 0px 1px 2px rgba(60, 64, 67, 0.3), 0px 1px 3px 1px rgba(60, 64, 67, 0.15);\n",
              "      fill: #174EA6;\n",
              "    }\n",
              "\n",
              "    [theme=dark] .colab-df-convert {\n",
              "      background-color: #3B4455;\n",
              "      fill: #D2E3FC;\n",
              "    }\n",
              "\n",
              "    [theme=dark] .colab-df-convert:hover {\n",
              "      background-color: #434B5C;\n",
              "      box-shadow: 0px 1px 3px 1px rgba(0, 0, 0, 0.15);\n",
              "      filter: drop-shadow(0px 1px 2px rgba(0, 0, 0, 0.3));\n",
              "      fill: #FFFFFF;\n",
              "    }\n",
              "  </style>\n",
              "\n",
              "      <script>\n",
              "        const buttonEl =\n",
              "          document.querySelector('#df-830296b1-672f-4087-b149-5ebc0aeac4a4 button.colab-df-convert');\n",
              "        buttonEl.style.display =\n",
              "          google.colab.kernel.accessAllowed ? 'block' : 'none';\n",
              "\n",
              "        async function convertToInteractive(key) {\n",
              "          const element = document.querySelector('#df-830296b1-672f-4087-b149-5ebc0aeac4a4');\n",
              "          const dataTable =\n",
              "            await google.colab.kernel.invokeFunction('convertToInteractive',\n",
              "                                                     [key], {});\n",
              "          if (!dataTable) return;\n",
              "\n",
              "          const docLinkHtml = 'Like what you see? Visit the ' +\n",
              "            '<a target=\"_blank\" href=https://colab.research.google.com/notebooks/data_table.ipynb>data table notebook</a>'\n",
              "            + ' to learn more about interactive tables.';\n",
              "          element.innerHTML = '';\n",
              "          dataTable['output_type'] = 'display_data';\n",
              "          await google.colab.output.renderOutput(dataTable, element);\n",
              "          const docLink = document.createElement('div');\n",
              "          docLink.innerHTML = docLinkHtml;\n",
              "          element.appendChild(docLink);\n",
              "        }\n",
              "      </script>\n",
              "    </div>\n",
              "  </div>\n",
              "  "
            ]
          },
          "metadata": {},
          "execution_count": 44
        }
      ],
      "source": [
        "df['embeddings'] = list(embeddings)\n",
        "df"
      ]
    },
    {
      "cell_type": "markdown",
      "metadata": {
        "id": "GdDEhWnyJMVx"
      },
      "source": [
        "# Construindo o Grafo"
      ]
    },
    {
      "cell_type": "code",
      "execution_count": null,
      "metadata": {
        "id": "gCGNUfq_7Zuv"
      },
      "outputs": [],
      "source": [
        "from sklearn.neighbors import kneighbors_graph\n",
        "import numpy as np\n",
        "A = kneighbors_graph(np.array(df['embeddings'].to_list()), n_neighbors=5, metric=\"cosine\")"
      ]
    },
    {
      "cell_type": "code",
      "execution_count": null,
      "metadata": {
        "id": "3AD8W8vB7psH"
      },
      "outputs": [],
      "source": [
        "import networkx as nx \n",
        "G = nx.Graph(A)"
      ]
    },
    {
      "cell_type": "code",
      "source": [
        "G.number_of_nodes()"
      ],
      "metadata": {
        "id": "3IgCK_KCMIaW",
        "colab": {
          "base_uri": "https://localhost:8080/"
        },
        "outputId": "db51b13d-0321-414e-fab9-ed5050370a15"
      },
      "execution_count": null,
      "outputs": [
        {
          "output_type": "execute_result",
          "data": {
            "text/plain": [
              "7674"
            ]
          },
          "metadata": {},
          "execution_count": 47
        }
      ]
    },
    {
      "cell_type": "markdown",
      "source": [
        "# Pegando uma amostra do grafo usando Edge Sampling"
      ],
      "metadata": {
        "id": "a94htqusEqr8"
      }
    },
    {
      "cell_type": "code",
      "source": [
        "max_size = G.number_of_nodes() // 1.25\n",
        "max_size"
      ],
      "metadata": {
        "colab": {
          "base_uri": "https://localhost:8080/"
        },
        "id": "qnPm5kTdE_dQ",
        "outputId": "0b8c2a99-a95d-4c2b-99d2-d308c7bc33af"
      },
      "execution_count": null,
      "outputs": [
        {
          "output_type": "execute_result",
          "data": {
            "text/plain": [
              "6139.0"
            ]
          },
          "metadata": {},
          "execution_count": 48
        }
      ]
    },
    {
      "cell_type": "code",
      "source": [
        "import random\n",
        "# Tentando otimizar\n",
        "class TIES():\n",
        "    def __init__(self, seed=42):\n",
        "        random.seed(seed)\n",
        "        self.G_sample = nx.Graph()\n",
        "\n",
        "    def sample(self, G, max_size = 30000):\n",
        "        # Shuffling edges and keeping track of index of edge to be sampled\n",
        "        edges = list(G.edges())\n",
        "        random.shuffle(edges)\n",
        "        idx_edges = 0\n",
        "\n",
        "        # Step 1: Edge based node sampling        \n",
        "        while self.G_sample.number_of_nodes() < max_size:\n",
        "            u,v = edges[idx_edges]\n",
        "            self.G_sample.add_edge(u,v)\n",
        "            idx_edges += 1\n",
        "\n",
        "        # Step 2: Graph induction\n",
        "        nodes_sample = set(self.G_sample.nodes())\n",
        "        for v in self.G_sample.nodes():\n",
        "            neighbors = G.neighbors(v)\n",
        "            valid_neighbors = nodes_sample.intersection(neighbors)\n",
        "\n",
        "            for neigh in valid_neighbors:\n",
        "                self.G_sample.add_edge(v, neigh)\n",
        "\n",
        "        return self.G_sample"
      ],
      "metadata": {
        "id": "MK5BMPfNE4tW"
      },
      "execution_count": null,
      "outputs": []
    },
    {
      "cell_type": "code",
      "source": [
        "%%time\n",
        "ties = TIES()\n",
        "sampled = ties.sample(G, max_size=max_size)\n",
        "sampled.number_of_nodes(), sampled.number_of_edges()"
      ],
      "metadata": {
        "colab": {
          "base_uri": "https://localhost:8080/"
        },
        "id": "2SJmYgPNE8x7",
        "outputId": "3868ba38-f73f-4d30-afab-07e5806b86c5"
      },
      "execution_count": null,
      "outputs": [
        {
          "output_type": "stream",
          "name": "stdout",
          "text": [
            "CPU times: user 271 ms, sys: 7.85 ms, total: 279 ms\n",
            "Wall time: 279 ms\n"
          ]
        },
        {
          "output_type": "execute_result",
          "data": {
            "text/plain": [
              "(6139, 22111)"
            ]
          },
          "metadata": {},
          "execution_count": 50
        }
      ]
    },
    {
      "cell_type": "markdown",
      "source": [
        "# Utilizando a API"
      ],
      "metadata": {
        "id": "OS6u3ywmODz0"
      }
    },
    {
      "cell_type": "code",
      "source": [
        "num_walks = 50\n",
        "walk_len = 10\n",
        "embed_dim = 32\n",
        "mask_rate = 0.5\n",
        "starting_nodes = None\n",
        "batch_size = 128\n",
        "epochs = 20\n",
        "lr = 0.0001"
      ],
      "metadata": {
        "id": "S9_EYdBCeeJ6"
      },
      "execution_count": null,
      "outputs": []
    },
    {
      "cell_type": "markdown",
      "source": [
        "## Obtendo os embeddings transdutivamente."
      ],
      "metadata": {
        "id": "grIHJZokFIFC"
      }
    },
    {
      "cell_type": "code",
      "source": [
        "from deep_walk_transformers.deep_walk_transformers import DeepWalkTransformers\n",
        "dwt = DeepWalkTransformers(\n",
        "    num_walks,\n",
        "    walk_len,\n",
        "    mask_rate,\n",
        "    embed_dim\n",
        ")\n",
        "dwt.fit(sampled, starting_nodes, batch_size, epochs, lr)"
      ],
      "metadata": {
        "id": "cB-Oxb_IOJrL",
        "colab": {
          "base_uri": "https://localhost:8080/",
          "height": 944,
          "referenced_widgets": [
            "fafebf1b5b884146b3d3bb7b32698e41",
            "c7e30669c73f449d8485b0e98f16a1f9",
            "fd7bef9201954088af7550e4e652c4d3",
            "1982345478854bbd9b3166eaf7857da6",
            "3d4481f96ee24b4a819a01ba1518135c",
            "7a9e8468ed0f445d86b2267bb12d097e",
            "bd4df2fe22be447f922916974e03c420",
            "536e0438246a4aa380457a54ef2e47a7",
            "056cec44299d45069bab6511893a2554",
            "a793fe639b9d4ac8b8beac2fadb830aa",
            "ee00ac99814d4969bf213c44f02fda7c"
          ]
        },
        "outputId": "e9bc09c4-34cb-42fa-8f6e-afb0039b76b6"
      },
      "execution_count": null,
      "outputs": [
        {
          "output_type": "stream",
          "name": "stdout",
          "text": [
            "Random walks - T=0.43s\n",
            "Walks shape: (306950, 10)\n"
          ]
        },
        {
          "output_type": "display_data",
          "data": {
            "text/plain": [
              "Building X_paths and X_positions:   0%|          | 0/306950 [00:00<?, ?it/s]"
            ],
            "application/vnd.jupyter.widget-view+json": {
              "version_major": 2,
              "version_minor": 0,
              "model_id": "fafebf1b5b884146b3d3bb7b32698e41"
            }
          },
          "metadata": {}
        },
        {
          "output_type": "stream",
          "name": "stdout",
          "text": [
            "Getting Vectorize Layer ...\n",
            "Encoding texts ...\n",
            "Getting masked input (mask token id = 6141) ...\n",
            "Building Masked Language Bert Model ...\n",
            "Fake Training MLM model ... \n",
            "Epoch 1/20\n",
            "eh pra entrar aqui!!!\n",
            "eh pra entrar aqui!!!\n",
            "2399/2399 [==============================] - 23s 9ms/step - loss: 8.6891\n",
            "Epoch 2/20\n",
            "2399/2399 [==============================] - 21s 9ms/step - loss: 8.6310\n",
            "Epoch 3/20\n",
            "2399/2399 [==============================] - 20s 8ms/step - loss: 8.6011\n",
            "Epoch 4/20\n",
            "2399/2399 [==============================] - 20s 8ms/step - loss: 8.5826\n",
            "Epoch 5/20\n",
            "2399/2399 [==============================] - 20s 8ms/step - loss: 8.5612\n",
            "Epoch 6/20\n",
            "2399/2399 [==============================] - 20s 8ms/step - loss: 8.5394\n",
            "Epoch 7/20\n",
            "2399/2399 [==============================] - 20s 8ms/step - loss: 8.5188\n",
            "Epoch 8/20\n",
            "2399/2399 [==============================] - 21s 9ms/step - loss: 8.4990\n",
            "Epoch 9/20\n",
            "2399/2399 [==============================] - 20s 8ms/step - loss: 8.4794\n",
            "Epoch 10/20\n",
            "2399/2399 [==============================] - 20s 8ms/step - loss: 8.4554\n",
            "Epoch 11/20\n",
            "2399/2399 [==============================] - 20s 8ms/step - loss: 8.4001\n",
            "Epoch 12/20\n",
            "2399/2399 [==============================] - 20s 8ms/step - loss: 8.2964\n",
            "Epoch 13/20\n",
            "2399/2399 [==============================] - 21s 9ms/step - loss: 8.2014\n",
            "Epoch 14/20\n",
            "2399/2399 [==============================] - 21s 9ms/step - loss: 8.1121\n",
            "Epoch 15/20\n",
            "2399/2399 [==============================] - 21s 9ms/step - loss: 8.0105\n",
            "Epoch 16/20\n",
            "2399/2399 [==============================] - 21s 9ms/step - loss: 7.9019\n",
            "Epoch 17/20\n",
            "2399/2399 [==============================] - 21s 9ms/step - loss: 7.8055\n",
            "Epoch 18/20\n",
            "2399/2399 [==============================] - 20s 8ms/step - loss: 7.7223\n",
            "Epoch 19/20\n",
            "2399/2399 [==============================] - 20s 8ms/step - loss: 7.6489\n",
            "Epoch 20/20\n",
            "2399/2399 [==============================] - 20s 8ms/step - loss: 7.5836\n"
          ]
        }
      ]
    },
    {
      "cell_type": "code",
      "source": [
        "transductive_node_embeddings = dwt.get_transductive_embeddings()\n",
        "df_embed_transductive = pd.DataFrame.from_dict(transductive_node_embeddings, orient='index')"
      ],
      "metadata": {
        "id": "cYdFBOqhzAhL"
      },
      "execution_count": null,
      "outputs": []
    },
    {
      "cell_type": "code",
      "source": [
        "df_embed_transductive.head()"
      ],
      "metadata": {
        "colab": {
          "base_uri": "https://localhost:8080/",
          "height": 279
        },
        "id": "vm1Oc6y58w0M",
        "outputId": "3e855f95-02c4-4ea9-becb-ff0e4b6dd5a6"
      },
      "execution_count": null,
      "outputs": [
        {
          "output_type": "execute_result",
          "data": {
            "text/plain": [
              "            0         1         2         3         4         5         6   \\\n",
              "207   0.314175  4.171468 -1.366991 -3.222153  2.405049  3.531760  5.789915   \n",
              "3073  0.622586  4.080947 -1.509055 -2.837902  2.284656  3.504594  5.529907   \n",
              "5936 -4.875624 -2.432853  4.714060 -0.351610  3.396615 -3.755986 -2.122553   \n",
              "7314 -4.884533 -2.505820  4.869226 -0.015224  3.279704 -3.669974 -2.345023   \n",
              "1214 -1.473800  2.882046  0.213233 -4.679193  3.526939  1.581712  5.134534   \n",
              "\n",
              "            7         8         9   ...        22        23        24  \\\n",
              "207  -4.848324 -1.974633 -1.267486  ...  5.124878  0.196024 -4.337134   \n",
              "3073 -4.658931 -2.006995 -1.221279  ...  4.908635  0.207760 -4.186805   \n",
              "5936  3.309355  3.267268  0.691855  ... -2.671758 -1.979118  1.549106   \n",
              "7314  3.448097  3.351478  0.757583  ... -2.746037 -2.072626  1.727198   \n",
              "1214 -3.260204 -0.869666 -1.577408  ...  4.289066 -0.740017 -4.041392   \n",
              "\n",
              "            25        26        27        28        29        30        31  \n",
              "207   1.460927 -2.327085  2.272375  0.799800  0.309307  1.862642 -1.659718  \n",
              "3073  1.531987 -2.060193  2.357764  0.797948  0.142507  1.793022 -1.696981  \n",
              "5936 -3.387812 -3.158566 -4.932659 -2.731576  1.165812 -1.065764  3.927591  \n",
              "7314 -3.559894 -3.121014 -5.057502 -2.818786  1.027154 -1.160646  4.054984  \n",
              "1214  0.589517 -3.641089  1.370077  0.133353  1.376334  2.018206 -0.436712  \n",
              "\n",
              "[5 rows x 32 columns]"
            ],
            "text/html": [
              "\n",
              "  <div id=\"df-21c650db-008b-466a-9047-b86848aa10e0\">\n",
              "    <div class=\"colab-df-container\">\n",
              "      <div>\n",
              "<style scoped>\n",
              "    .dataframe tbody tr th:only-of-type {\n",
              "        vertical-align: middle;\n",
              "    }\n",
              "\n",
              "    .dataframe tbody tr th {\n",
              "        vertical-align: top;\n",
              "    }\n",
              "\n",
              "    .dataframe thead th {\n",
              "        text-align: right;\n",
              "    }\n",
              "</style>\n",
              "<table border=\"1\" class=\"dataframe\">\n",
              "  <thead>\n",
              "    <tr style=\"text-align: right;\">\n",
              "      <th></th>\n",
              "      <th>0</th>\n",
              "      <th>1</th>\n",
              "      <th>2</th>\n",
              "      <th>3</th>\n",
              "      <th>4</th>\n",
              "      <th>5</th>\n",
              "      <th>6</th>\n",
              "      <th>7</th>\n",
              "      <th>8</th>\n",
              "      <th>9</th>\n",
              "      <th>...</th>\n",
              "      <th>22</th>\n",
              "      <th>23</th>\n",
              "      <th>24</th>\n",
              "      <th>25</th>\n",
              "      <th>26</th>\n",
              "      <th>27</th>\n",
              "      <th>28</th>\n",
              "      <th>29</th>\n",
              "      <th>30</th>\n",
              "      <th>31</th>\n",
              "    </tr>\n",
              "  </thead>\n",
              "  <tbody>\n",
              "    <tr>\n",
              "      <th>207</th>\n",
              "      <td>0.314175</td>\n",
              "      <td>4.171468</td>\n",
              "      <td>-1.366991</td>\n",
              "      <td>-3.222153</td>\n",
              "      <td>2.405049</td>\n",
              "      <td>3.531760</td>\n",
              "      <td>5.789915</td>\n",
              "      <td>-4.848324</td>\n",
              "      <td>-1.974633</td>\n",
              "      <td>-1.267486</td>\n",
              "      <td>...</td>\n",
              "      <td>5.124878</td>\n",
              "      <td>0.196024</td>\n",
              "      <td>-4.337134</td>\n",
              "      <td>1.460927</td>\n",
              "      <td>-2.327085</td>\n",
              "      <td>2.272375</td>\n",
              "      <td>0.799800</td>\n",
              "      <td>0.309307</td>\n",
              "      <td>1.862642</td>\n",
              "      <td>-1.659718</td>\n",
              "    </tr>\n",
              "    <tr>\n",
              "      <th>3073</th>\n",
              "      <td>0.622586</td>\n",
              "      <td>4.080947</td>\n",
              "      <td>-1.509055</td>\n",
              "      <td>-2.837902</td>\n",
              "      <td>2.284656</td>\n",
              "      <td>3.504594</td>\n",
              "      <td>5.529907</td>\n",
              "      <td>-4.658931</td>\n",
              "      <td>-2.006995</td>\n",
              "      <td>-1.221279</td>\n",
              "      <td>...</td>\n",
              "      <td>4.908635</td>\n",
              "      <td>0.207760</td>\n",
              "      <td>-4.186805</td>\n",
              "      <td>1.531987</td>\n",
              "      <td>-2.060193</td>\n",
              "      <td>2.357764</td>\n",
              "      <td>0.797948</td>\n",
              "      <td>0.142507</td>\n",
              "      <td>1.793022</td>\n",
              "      <td>-1.696981</td>\n",
              "    </tr>\n",
              "    <tr>\n",
              "      <th>5936</th>\n",
              "      <td>-4.875624</td>\n",
              "      <td>-2.432853</td>\n",
              "      <td>4.714060</td>\n",
              "      <td>-0.351610</td>\n",
              "      <td>3.396615</td>\n",
              "      <td>-3.755986</td>\n",
              "      <td>-2.122553</td>\n",
              "      <td>3.309355</td>\n",
              "      <td>3.267268</td>\n",
              "      <td>0.691855</td>\n",
              "      <td>...</td>\n",
              "      <td>-2.671758</td>\n",
              "      <td>-1.979118</td>\n",
              "      <td>1.549106</td>\n",
              "      <td>-3.387812</td>\n",
              "      <td>-3.158566</td>\n",
              "      <td>-4.932659</td>\n",
              "      <td>-2.731576</td>\n",
              "      <td>1.165812</td>\n",
              "      <td>-1.065764</td>\n",
              "      <td>3.927591</td>\n",
              "    </tr>\n",
              "    <tr>\n",
              "      <th>7314</th>\n",
              "      <td>-4.884533</td>\n",
              "      <td>-2.505820</td>\n",
              "      <td>4.869226</td>\n",
              "      <td>-0.015224</td>\n",
              "      <td>3.279704</td>\n",
              "      <td>-3.669974</td>\n",
              "      <td>-2.345023</td>\n",
              "      <td>3.448097</td>\n",
              "      <td>3.351478</td>\n",
              "      <td>0.757583</td>\n",
              "      <td>...</td>\n",
              "      <td>-2.746037</td>\n",
              "      <td>-2.072626</td>\n",
              "      <td>1.727198</td>\n",
              "      <td>-3.559894</td>\n",
              "      <td>-3.121014</td>\n",
              "      <td>-5.057502</td>\n",
              "      <td>-2.818786</td>\n",
              "      <td>1.027154</td>\n",
              "      <td>-1.160646</td>\n",
              "      <td>4.054984</td>\n",
              "    </tr>\n",
              "    <tr>\n",
              "      <th>1214</th>\n",
              "      <td>-1.473800</td>\n",
              "      <td>2.882046</td>\n",
              "      <td>0.213233</td>\n",
              "      <td>-4.679193</td>\n",
              "      <td>3.526939</td>\n",
              "      <td>1.581712</td>\n",
              "      <td>5.134534</td>\n",
              "      <td>-3.260204</td>\n",
              "      <td>-0.869666</td>\n",
              "      <td>-1.577408</td>\n",
              "      <td>...</td>\n",
              "      <td>4.289066</td>\n",
              "      <td>-0.740017</td>\n",
              "      <td>-4.041392</td>\n",
              "      <td>0.589517</td>\n",
              "      <td>-3.641089</td>\n",
              "      <td>1.370077</td>\n",
              "      <td>0.133353</td>\n",
              "      <td>1.376334</td>\n",
              "      <td>2.018206</td>\n",
              "      <td>-0.436712</td>\n",
              "    </tr>\n",
              "  </tbody>\n",
              "</table>\n",
              "<p>5 rows × 32 columns</p>\n",
              "</div>\n",
              "      <button class=\"colab-df-convert\" onclick=\"convertToInteractive('df-21c650db-008b-466a-9047-b86848aa10e0')\"\n",
              "              title=\"Convert this dataframe to an interactive table.\"\n",
              "              style=\"display:none;\">\n",
              "        \n",
              "  <svg xmlns=\"http://www.w3.org/2000/svg\" height=\"24px\"viewBox=\"0 0 24 24\"\n",
              "       width=\"24px\">\n",
              "    <path d=\"M0 0h24v24H0V0z\" fill=\"none\"/>\n",
              "    <path d=\"M18.56 5.44l.94 2.06.94-2.06 2.06-.94-2.06-.94-.94-2.06-.94 2.06-2.06.94zm-11 1L8.5 8.5l.94-2.06 2.06-.94-2.06-.94L8.5 2.5l-.94 2.06-2.06.94zm10 10l.94 2.06.94-2.06 2.06-.94-2.06-.94-.94-2.06-.94 2.06-2.06.94z\"/><path d=\"M17.41 7.96l-1.37-1.37c-.4-.4-.92-.59-1.43-.59-.52 0-1.04.2-1.43.59L10.3 9.45l-7.72 7.72c-.78.78-.78 2.05 0 2.83L4 21.41c.39.39.9.59 1.41.59.51 0 1.02-.2 1.41-.59l7.78-7.78 2.81-2.81c.8-.78.8-2.07 0-2.86zM5.41 20L4 18.59l7.72-7.72 1.47 1.35L5.41 20z\"/>\n",
              "  </svg>\n",
              "      </button>\n",
              "      \n",
              "  <style>\n",
              "    .colab-df-container {\n",
              "      display:flex;\n",
              "      flex-wrap:wrap;\n",
              "      gap: 12px;\n",
              "    }\n",
              "\n",
              "    .colab-df-convert {\n",
              "      background-color: #E8F0FE;\n",
              "      border: none;\n",
              "      border-radius: 50%;\n",
              "      cursor: pointer;\n",
              "      display: none;\n",
              "      fill: #1967D2;\n",
              "      height: 32px;\n",
              "      padding: 0 0 0 0;\n",
              "      width: 32px;\n",
              "    }\n",
              "\n",
              "    .colab-df-convert:hover {\n",
              "      background-color: #E2EBFA;\n",
              "      box-shadow: 0px 1px 2px rgba(60, 64, 67, 0.3), 0px 1px 3px 1px rgba(60, 64, 67, 0.15);\n",
              "      fill: #174EA6;\n",
              "    }\n",
              "\n",
              "    [theme=dark] .colab-df-convert {\n",
              "      background-color: #3B4455;\n",
              "      fill: #D2E3FC;\n",
              "    }\n",
              "\n",
              "    [theme=dark] .colab-df-convert:hover {\n",
              "      background-color: #434B5C;\n",
              "      box-shadow: 0px 1px 3px 1px rgba(0, 0, 0, 0.15);\n",
              "      filter: drop-shadow(0px 1px 2px rgba(0, 0, 0, 0.3));\n",
              "      fill: #FFFFFF;\n",
              "    }\n",
              "  </style>\n",
              "\n",
              "      <script>\n",
              "        const buttonEl =\n",
              "          document.querySelector('#df-21c650db-008b-466a-9047-b86848aa10e0 button.colab-df-convert');\n",
              "        buttonEl.style.display =\n",
              "          google.colab.kernel.accessAllowed ? 'block' : 'none';\n",
              "\n",
              "        async function convertToInteractive(key) {\n",
              "          const element = document.querySelector('#df-21c650db-008b-466a-9047-b86848aa10e0');\n",
              "          const dataTable =\n",
              "            await google.colab.kernel.invokeFunction('convertToInteractive',\n",
              "                                                     [key], {});\n",
              "          if (!dataTable) return;\n",
              "\n",
              "          const docLinkHtml = 'Like what you see? Visit the ' +\n",
              "            '<a target=\"_blank\" href=https://colab.research.google.com/notebooks/data_table.ipynb>data table notebook</a>'\n",
              "            + ' to learn more about interactive tables.';\n",
              "          element.innerHTML = '';\n",
              "          dataTable['output_type'] = 'display_data';\n",
              "          await google.colab.output.renderOutput(dataTable, element);\n",
              "          const docLink = document.createElement('div');\n",
              "          docLink.innerHTML = docLinkHtml;\n",
              "          element.appendChild(docLink);\n",
              "        }\n",
              "      </script>\n",
              "    </div>\n",
              "  </div>\n",
              "  "
            ]
          },
          "metadata": {},
          "execution_count": 54
        }
      ]
    },
    {
      "cell_type": "code",
      "source": [
        "df_embed_transductive.shape"
      ],
      "metadata": {
        "colab": {
          "base_uri": "https://localhost:8080/"
        },
        "id": "CB8GTEoN8ytx",
        "outputId": "3d3fe268-9f3c-438a-df96-d15c9a66c13d"
      },
      "execution_count": null,
      "outputs": [
        {
          "output_type": "execute_result",
          "data": {
            "text/plain": [
              "(6139, 32)"
            ]
          },
          "metadata": {},
          "execution_count": 55
        }
      ]
    },
    {
      "cell_type": "code",
      "source": [
        "np.sum(list(sampled.nodes()) == df_embed_transductive.index)"
      ],
      "metadata": {
        "colab": {
          "base_uri": "https://localhost:8080/"
        },
        "id": "DAjMIldjOCAX",
        "outputId": "63581173-401a-4f15-8873-210fb7ae051d"
      },
      "execution_count": null,
      "outputs": [
        {
          "output_type": "execute_result",
          "data": {
            "text/plain": [
              "6139"
            ]
          },
          "metadata": {},
          "execution_count": 56
        }
      ]
    },
    {
      "cell_type": "code",
      "source": [
        "labels = df.iloc[df_embed_transductive.index].label.to_list()"
      ],
      "metadata": {
        "id": "RXBF3wZ8JYo6"
      },
      "execution_count": null,
      "outputs": []
    },
    {
      "cell_type": "code",
      "source": [
        "evaluate(df_embed_transductive, labels)"
      ],
      "metadata": {
        "colab": {
          "base_uri": "https://localhost:8080/"
        },
        "id": "T4K2Py_I81eE",
        "outputId": "d2694be9-e171-403e-b3eb-72938d9c8b08"
      },
      "execution_count": null,
      "outputs": [
        {
          "output_type": "stream",
          "name": "stdout",
          "text": [
            "\n",
            "\n",
            "\n",
            "---> DeepWalk Transformers (classification)\n",
            "              precision    recall  f1-score   support\n",
            "\n",
            "           0       0.87      0.93      0.90       534\n",
            "           1       0.30      0.31      0.30        72\n",
            "           2       0.95      0.94      0.94       957\n",
            "           3       0.00      0.00      0.00        16\n",
            "           4       0.46      0.42      0.44        62\n",
            "           5       0.47      0.23      0.31        77\n",
            "           6       0.64      0.18      0.28        39\n",
            "           7       0.42      0.72      0.53        85\n",
            "\n",
            "    accuracy                           0.83      1842\n",
            "   macro avg       0.51      0.47      0.46      1842\n",
            "weighted avg       0.83      0.83      0.82      1842\n",
            "\n"
          ]
        },
        {
          "output_type": "stream",
          "name": "stderr",
          "text": [
            "/usr/local/lib/python3.7/dist-packages/sklearn/svm/_base.py:1208: ConvergenceWarning: Liblinear failed to converge, increase the number of iterations.\n",
            "  ConvergenceWarning,\n",
            "/usr/local/lib/python3.7/dist-packages/sklearn/metrics/_classification.py:1318: UndefinedMetricWarning: Precision and F-score are ill-defined and being set to 0.0 in labels with no predicted samples. Use `zero_division` parameter to control this behavior.\n",
            "  _warn_prf(average, modifier, msg_start, len(result))\n",
            "/usr/local/lib/python3.7/dist-packages/sklearn/metrics/_classification.py:1318: UndefinedMetricWarning: Precision and F-score are ill-defined and being set to 0.0 in labels with no predicted samples. Use `zero_division` parameter to control this behavior.\n",
            "  _warn_prf(average, modifier, msg_start, len(result))\n",
            "/usr/local/lib/python3.7/dist-packages/sklearn/metrics/_classification.py:1318: UndefinedMetricWarning: Precision and F-score are ill-defined and being set to 0.0 in labels with no predicted samples. Use `zero_division` parameter to control this behavior.\n",
            "  _warn_prf(average, modifier, msg_start, len(result))\n"
          ]
        }
      ]
    },
    {
      "cell_type": "code",
      "source": [
        "import seaborn as sns\n",
        "from sklearn.manifold import TSNE\n",
        "X_embedded = TSNE(n_components=2, learning_rate='auto',\n",
        "                  init='random').fit_transform(df_embed_transductive)\n",
        "\n",
        "df_tsne = pd.DataFrame(X_embedded)\n",
        "df_tsne['label'] = labels\n",
        "sns.scatterplot(data=df_tsne, x=0, y=1, hue=\"label\")"
      ],
      "metadata": {
        "colab": {
          "base_uri": "https://localhost:8080/",
          "height": 297
        },
        "id": "WbgWJTFBBSkS",
        "outputId": "184d3efd-bc90-4022-913b-e119eed0887a"
      },
      "execution_count": null,
      "outputs": [
        {
          "output_type": "execute_result",
          "data": {
            "text/plain": [
              "<matplotlib.axes._subplots.AxesSubplot at 0x7f1cb0101ad0>"
            ]
          },
          "metadata": {},
          "execution_count": 59
        },
        {
          "output_type": "display_data",
          "data": {
            "text/plain": [
              "<Figure size 432x288 with 1 Axes>"
            ],
            "image/png": "[encoded data removed]"
          },
          "metadata": {
            "needs_background": "light"
          }
        }
      ]
    },
    {
      "cell_type": "markdown",
      "source": [
        "## Obtendo embeddings indutivamente"
      ],
      "metadata": {
        "id": "VsulN-JYFoLM"
      }
    },
    {
      "cell_type": "code",
      "source": [
        "nodes_of_sampled = set(sampled.nodes())\n",
        "nodes_of_fullGraph = set(G.nodes())\n",
        "starting_nodes = list(nodes_of_fullGraph.difference(nodes_of_sampled))"
      ],
      "metadata": {
        "id": "AMunXjxePuBy"
      },
      "execution_count": null,
      "outputs": []
    },
    {
      "cell_type": "code",
      "source": [
        "len(nodes_of_fullGraph) == len(nodes_of_sampled) + len(starting_nodes)"
      ],
      "metadata": {
        "colab": {
          "base_uri": "https://localhost:8080/"
        },
        "id": "XdjIvi1_Q3su",
        "outputId": "ef348fa0-3b36-42ad-c3ed-5bf21367f4d8"
      },
      "execution_count": null,
      "outputs": [
        {
          "output_type": "execute_result",
          "data": {
            "text/plain": [
              "True"
            ]
          },
          "metadata": {},
          "execution_count": 61
        }
      ]
    },
    {
      "cell_type": "code",
      "source": [
        "inductive_node_embeddings = dwt.get_inductive_embeddings(G, starting_nodes)\n",
        "df_embed_inductive = pd.DataFrame.from_dict(inductive_node_embeddings, orient='index')"
      ],
      "metadata": {
        "colab": {
          "base_uri": "https://localhost:8080/",
          "height": 122,
          "referenced_widgets": [
            "49276fb923e24ba684f13dfd43092492",
            "bb79a362c8854bbbacdd5255866b5b94",
            "d18feaf4bd404790b0ef595f04d2445d",
            "b982db78fad24a199936a6fa17d9db5d",
            "76f6617000fe4708bd5931cf6259a4e9",
            "763c8a70651d43c989a18176262fc647",
            "1506c921181b49a19ba185e3d89177eb",
            "62bb1bd404044488b7c580e7a11c4abe",
            "3ac2f2d17189480693e20314f49f018f",
            "9cde578117ff499aa68251e46ea8c37b",
            "f7b922a57c0142c19b559d3e30fecdcd"
          ]
        },
        "id": "YHbwR-sGRr0z",
        "outputId": "abd0b7c4-cab2-47f7-dc38-c606401e12c2"
      },
      "execution_count": null,
      "outputs": [
        {
          "output_type": "stream",
          "name": "stdout",
          "text": [
            "Random walks - T=0.09s\n",
            "Walks shape: (76750, 10)\n"
          ]
        },
        {
          "output_type": "display_data",
          "data": {
            "text/plain": [
              "Building X_paths and X_positions:   0%|          | 0/76750 [00:00<?, ?it/s]"
            ],
            "application/vnd.jupyter.widget-view+json": {
              "version_major": 2,
              "version_minor": 0,
              "model_id": "49276fb923e24ba684f13dfd43092492"
            }
          },
          "metadata": {}
        },
        {
          "output_type": "stream",
          "name": "stdout",
          "text": [
            "Getting Vectorize Layer ...\n",
            "Encoding texts ...\n"
          ]
        }
      ]
    },
    {
      "cell_type": "code",
      "source": [
        "df_embed_inductive.head()"
      ],
      "metadata": {
        "colab": {
          "base_uri": "https://localhost:8080/",
          "height": 279
        },
        "id": "NQPBOmVWWJXY",
        "outputId": "d5a0c5b3-c7c8-4ec7-f40e-560e0c30e278"
      },
      "execution_count": null,
      "outputs": [
        {
          "output_type": "execute_result",
          "data": {
            "text/plain": [
              "          0         1         2         3         4         5         6   \\\n",
              "0  -3.758212 -1.485141  3.017645 -3.035958  3.211440 -2.849319  0.341631   \n",
              "1  -3.786186 -1.362815  2.695202 -3.407101  3.190185 -2.519728  0.695713   \n",
              "10 -0.982857  0.588673  0.050695 -4.376199  1.777852  0.281107  2.950545   \n",
              "12 -1.200110  0.231897  1.906480 -3.828065  2.865625 -0.766202  1.281725   \n",
              "14 -2.545512 -1.887068  2.303423 -3.320576  2.253863 -2.193135  0.135846   \n",
              "\n",
              "          7         8         9   ...        22        23        24        25  \\\n",
              "0   2.048233  1.915696 -0.277100  ... -1.106129 -1.289338 -0.785863 -1.015697   \n",
              "1   1.569613  1.729482 -0.365407  ... -0.646927 -1.131646 -0.931985 -0.970533   \n",
              "10 -0.623822 -0.654990 -1.047897  ...  1.525311  0.041956 -3.106286  1.946305   \n",
              "12  0.960885  0.378435 -1.764297  ... -0.352579 -0.834857 -2.731560  1.637576   \n",
              "14  2.314265  1.499136 -0.396124  ... -1.268175 -0.747085 -1.182494  0.428293   \n",
              "\n",
              "          26        27        28        29        30        31  \n",
              "0  -3.236808 -1.865899 -1.573038  2.313668 -0.068933  2.755269  \n",
              "1  -3.154303 -1.641986 -1.313985  2.301528  0.238331  2.480066  \n",
              "10 -2.003887  2.265363  0.114610  2.173830  1.003349  0.293601  \n",
              "12 -3.544089  1.862200 -1.423171  2.948680  0.781174  1.612068  \n",
              "14 -2.625465  0.038875 -1.216587  2.742551 -0.148755  2.287551  \n",
              "\n",
              "[5 rows x 32 columns]"
            ],
            "text/html": [
              "\n",
              "  <div id=\"df-860a5376-a014-4bfb-bcec-051014f86789\">\n",
              "    <div class=\"colab-df-container\">\n",
              "      <div>\n",
              "<style scoped>\n",
              "    .dataframe tbody tr th:only-of-type {\n",
              "        vertical-align: middle;\n",
              "    }\n",
              "\n",
              "    .dataframe tbody tr th {\n",
              "        vertical-align: top;\n",
              "    }\n",
              "\n",
              "    .dataframe thead th {\n",
              "        text-align: right;\n",
              "    }\n",
              "</style>\n",
              "<table border=\"1\" class=\"dataframe\">\n",
              "  <thead>\n",
              "    <tr style=\"text-align: right;\">\n",
              "      <th></th>\n",
              "      <th>0</th>\n",
              "      <th>1</th>\n",
              "      <th>2</th>\n",
              "      <th>3</th>\n",
              "      <th>4</th>\n",
              "      <th>5</th>\n",
              "      <th>6</th>\n",
              "      <th>7</th>\n",
              "      <th>8</th>\n",
              "      <th>9</th>\n",
              "      <th>...</th>\n",
              "      <th>22</th>\n",
              "      <th>23</th>\n",
              "      <th>24</th>\n",
              "      <th>25</th>\n",
              "      <th>26</th>\n",
              "      <th>27</th>\n",
              "      <th>28</th>\n",
              "      <th>29</th>\n",
              "      <th>30</th>\n",
              "      <th>31</th>\n",
              "    </tr>\n",
              "  </thead>\n",
              "  <tbody>\n",
              "    <tr>\n",
              "      <th>0</th>\n",
              "      <td>-3.758212</td>\n",
              "      <td>-1.485141</td>\n",
              "      <td>3.017645</td>\n",
              "      <td>-3.035958</td>\n",
              "      <td>3.211440</td>\n",
              "      <td>-2.849319</td>\n",
              "      <td>0.341631</td>\n",
              "      <td>2.048233</td>\n",
              "      <td>1.915696</td>\n",
              "      <td>-0.277100</td>\n",
              "      <td>...</td>\n",
              "      <td>-1.106129</td>\n",
              "      <td>-1.289338</td>\n",
              "      <td>-0.785863</td>\n",
              "      <td>-1.015697</td>\n",
              "      <td>-3.236808</td>\n",
              "      <td>-1.865899</td>\n",
              "      <td>-1.573038</td>\n",
              "      <td>2.313668</td>\n",
              "      <td>-0.068933</td>\n",
              "      <td>2.755269</td>\n",
              "    </tr>\n",
              "    <tr>\n",
              "      <th>1</th>\n",
              "      <td>-3.786186</td>\n",
              "      <td>-1.362815</td>\n",
              "      <td>2.695202</td>\n",
              "      <td>-3.407101</td>\n",
              "      <td>3.190185</td>\n",
              "      <td>-2.519728</td>\n",
              "      <td>0.695713</td>\n",
              "      <td>1.569613</td>\n",
              "      <td>1.729482</td>\n",
              "      <td>-0.365407</td>\n",
              "      <td>...</td>\n",
              "      <td>-0.646927</td>\n",
              "      <td>-1.131646</td>\n",
              "      <td>-0.931985</td>\n",
              "      <td>-0.970533</td>\n",
              "      <td>-3.154303</td>\n",
              "      <td>-1.641986</td>\n",
              "      <td>-1.313985</td>\n",
              "      <td>2.301528</td>\n",
              "      <td>0.238331</td>\n",
              "      <td>2.480066</td>\n",
              "    </tr>\n",
              "    <tr>\n",
              "      <th>10</th>\n",
              "      <td>-0.982857</td>\n",
              "      <td>0.588673</td>\n",
              "      <td>0.050695</td>\n",
              "      <td>-4.376199</td>\n",
              "      <td>1.777852</td>\n",
              "      <td>0.281107</td>\n",
              "      <td>2.950545</td>\n",
              "      <td>-0.623822</td>\n",
              "      <td>-0.654990</td>\n",
              "      <td>-1.047897</td>\n",
              "      <td>...</td>\n",
              "      <td>1.525311</td>\n",
              "      <td>0.041956</td>\n",
              "      <td>-3.106286</td>\n",
              "      <td>1.946305</td>\n",
              "      <td>-2.003887</td>\n",
              "      <td>2.265363</td>\n",
              "      <td>0.114610</td>\n",
              "      <td>2.173830</td>\n",
              "      <td>1.003349</td>\n",
              "      <td>0.293601</td>\n",
              "    </tr>\n",
              "    <tr>\n",
              "      <th>12</th>\n",
              "      <td>-1.200110</td>\n",
              "      <td>0.231897</td>\n",
              "      <td>1.906480</td>\n",
              "      <td>-3.828065</td>\n",
              "      <td>2.865625</td>\n",
              "      <td>-0.766202</td>\n",
              "      <td>1.281725</td>\n",
              "      <td>0.960885</td>\n",
              "      <td>0.378435</td>\n",
              "      <td>-1.764297</td>\n",
              "      <td>...</td>\n",
              "      <td>-0.352579</td>\n",
              "      <td>-0.834857</td>\n",
              "      <td>-2.731560</td>\n",
              "      <td>1.637576</td>\n",
              "      <td>-3.544089</td>\n",
              "      <td>1.862200</td>\n",
              "      <td>-1.423171</td>\n",
              "      <td>2.948680</td>\n",
              "      <td>0.781174</td>\n",
              "      <td>1.612068</td>\n",
              "    </tr>\n",
              "    <tr>\n",
              "      <th>14</th>\n",
              "      <td>-2.545512</td>\n",
              "      <td>-1.887068</td>\n",
              "      <td>2.303423</td>\n",
              "      <td>-3.320576</td>\n",
              "      <td>2.253863</td>\n",
              "      <td>-2.193135</td>\n",
              "      <td>0.135846</td>\n",
              "      <td>2.314265</td>\n",
              "      <td>1.499136</td>\n",
              "      <td>-0.396124</td>\n",
              "      <td>...</td>\n",
              "      <td>-1.268175</td>\n",
              "      <td>-0.747085</td>\n",
              "      <td>-1.182494</td>\n",
              "      <td>0.428293</td>\n",
              "      <td>-2.625465</td>\n",
              "      <td>0.038875</td>\n",
              "      <td>-1.216587</td>\n",
              "      <td>2.742551</td>\n",
              "      <td>-0.148755</td>\n",
              "      <td>2.287551</td>\n",
              "    </tr>\n",
              "  </tbody>\n",
              "</table>\n",
              "<p>5 rows × 32 columns</p>\n",
              "</div>\n",
              "      <button class=\"colab-df-convert\" onclick=\"convertToInteractive('df-860a5376-a014-4bfb-bcec-051014f86789')\"\n",
              "              title=\"Convert this dataframe to an interactive table.\"\n",
              "              style=\"display:none;\">\n",
              "        \n",
              "  <svg xmlns=\"http://www.w3.org/2000/svg\" height=\"24px\"viewBox=\"0 0 24 24\"\n",
              "       width=\"24px\">\n",
              "    <path d=\"M0 0h24v24H0V0z\" fill=\"none\"/>\n",
              "    <path d=\"M18.56 5.44l.94 2.06.94-2.06 2.06-.94-2.06-.94-.94-2.06-.94 2.06-2.06.94zm-11 1L8.5 8.5l.94-2.06 2.06-.94-2.06-.94L8.5 2.5l-.94 2.06-2.06.94zm10 10l.94 2.06.94-2.06 2.06-.94-2.06-.94-.94-2.06-.94 2.06-2.06.94z\"/><path d=\"M17.41 7.96l-1.37-1.37c-.4-.4-.92-.59-1.43-.59-.52 0-1.04.2-1.43.59L10.3 9.45l-7.72 7.72c-.78.78-.78 2.05 0 2.83L4 21.41c.39.39.9.59 1.41.59.51 0 1.02-.2 1.41-.59l7.78-7.78 2.81-2.81c.8-.78.8-2.07 0-2.86zM5.41 20L4 18.59l7.72-7.72 1.47 1.35L5.41 20z\"/>\n",
              "  </svg>\n",
              "      </button>\n",
              "      \n",
              "  <style>\n",
              "    .colab-df-container {\n",
              "      display:flex;\n",
              "      flex-wrap:wrap;\n",
              "      gap: 12px;\n",
              "    }\n",
              "\n",
              "    .colab-df-convert {\n",
              "      background-color: #E8F0FE;\n",
              "      border: none;\n",
              "      border-radius: 50%;\n",
              "      cursor: pointer;\n",
              "      display: none;\n",
              "      fill: #1967D2;\n",
              "      height: 32px;\n",
              "      padding: 0 0 0 0;\n",
              "      width: 32px;\n",
              "    }\n",
              "\n",
              "    .colab-df-convert:hover {\n",
              "      background-color: #E2EBFA;\n",
              "      box-shadow: 0px 1px 2px rgba(60, 64, 67, 0.3), 0px 1px 3px 1px rgba(60, 64, 67, 0.15);\n",
              "      fill: #174EA6;\n",
              "    }\n",
              "\n",
              "    [theme=dark] .colab-df-convert {\n",
              "      background-color: #3B4455;\n",
              "      fill: #D2E3FC;\n",
              "    }\n",
              "\n",
              "    [theme=dark] .colab-df-convert:hover {\n",
              "      background-color: #434B5C;\n",
              "      box-shadow: 0px 1px 3px 1px rgba(0, 0, 0, 0.15);\n",
              "      filter: drop-shadow(0px 1px 2px rgba(0, 0, 0, 0.3));\n",
              "      fill: #FFFFFF;\n",
              "    }\n",
              "  </style>\n",
              "\n",
              "      <script>\n",
              "        const buttonEl =\n",
              "          document.querySelector('#df-860a5376-a014-4bfb-bcec-051014f86789 button.colab-df-convert');\n",
              "        buttonEl.style.display =\n",
              "          google.colab.kernel.accessAllowed ? 'block' : 'none';\n",
              "\n",
              "        async function convertToInteractive(key) {\n",
              "          const element = document.querySelector('#df-860a5376-a014-4bfb-bcec-051014f86789');\n",
              "          const dataTable =\n",
              "            await google.colab.kernel.invokeFunction('convertToInteractive',\n",
              "                                                     [key], {});\n",
              "          if (!dataTable) return;\n",
              "\n",
              "          const docLinkHtml = 'Like what you see? Visit the ' +\n",
              "            '<a target=\"_blank\" href=https://colab.research.google.com/notebooks/data_table.ipynb>data table notebook</a>'\n",
              "            + ' to learn more about interactive tables.';\n",
              "          element.innerHTML = '';\n",
              "          dataTable['output_type'] = 'display_data';\n",
              "          await google.colab.output.renderOutput(dataTable, element);\n",
              "          const docLink = document.createElement('div');\n",
              "          docLink.innerHTML = docLinkHtml;\n",
              "          element.appendChild(docLink);\n",
              "        }\n",
              "      </script>\n",
              "    </div>\n",
              "  </div>\n",
              "  "
            ]
          },
          "metadata": {},
          "execution_count": 63
        }
      ]
    },
    {
      "cell_type": "code",
      "source": [
        "df_embed_inductive.shape"
      ],
      "metadata": {
        "colab": {
          "base_uri": "https://localhost:8080/"
        },
        "id": "B4vdjMEQXPTn",
        "outputId": "24706085-29f7-4900-ece3-3a356b221c86"
      },
      "execution_count": null,
      "outputs": [
        {
          "output_type": "execute_result",
          "data": {
            "text/plain": [
              "(1535, 32)"
            ]
          },
          "metadata": {},
          "execution_count": 64
        }
      ]
    },
    {
      "cell_type": "code",
      "source": [
        "labels = df.iloc[df_embed_inductive.index].label.to_list()\n",
        "evaluate(df_embed_inductive, labels)"
      ],
      "metadata": {
        "colab": {
          "base_uri": "https://localhost:8080/"
        },
        "id": "95HPLEorWJrs",
        "outputId": "20e7594d-d95e-416f-a29c-afd1d503fe02"
      },
      "execution_count": null,
      "outputs": [
        {
          "output_type": "stream",
          "name": "stdout",
          "text": [
            "\n",
            "\n",
            "\n",
            "---> DeepWalk Transformers (classification)\n",
            "              precision    recall  f1-score   support\n",
            "\n",
            "           0       0.57      0.66      0.61       149\n",
            "           1       0.64      0.22      0.33        32\n",
            "           2       0.66      0.80      0.72       208\n",
            "           3       0.00      0.00      0.00         3\n",
            "           4       0.17      0.04      0.07        24\n",
            "           5       0.00      0.00      0.00        15\n",
            "           6       1.00      0.25      0.40        12\n",
            "           7       0.67      0.56      0.61        18\n",
            "\n",
            "    accuracy                           0.62       461\n",
            "   macro avg       0.46      0.32      0.34       461\n",
            "weighted avg       0.59      0.62      0.58       461\n",
            "\n"
          ]
        },
        {
          "output_type": "stream",
          "name": "stderr",
          "text": [
            "/usr/local/lib/python3.7/dist-packages/sklearn/svm/_base.py:1208: ConvergenceWarning: Liblinear failed to converge, increase the number of iterations.\n",
            "  ConvergenceWarning,\n",
            "/usr/local/lib/python3.7/dist-packages/sklearn/metrics/_classification.py:1318: UndefinedMetricWarning: Precision and F-score are ill-defined and being set to 0.0 in labels with no predicted samples. Use `zero_division` parameter to control this behavior.\n",
            "  _warn_prf(average, modifier, msg_start, len(result))\n",
            "/usr/local/lib/python3.7/dist-packages/sklearn/metrics/_classification.py:1318: UndefinedMetricWarning: Precision and F-score are ill-defined and being set to 0.0 in labels with no predicted samples. Use `zero_division` parameter to control this behavior.\n",
            "  _warn_prf(average, modifier, msg_start, len(result))\n",
            "/usr/local/lib/python3.7/dist-packages/sklearn/metrics/_classification.py:1318: UndefinedMetricWarning: Precision and F-score are ill-defined and being set to 0.0 in labels with no predicted samples. Use `zero_division` parameter to control this behavior.\n",
            "  _warn_prf(average, modifier, msg_start, len(result))\n"
          ]
        }
      ]
    },
    {
      "cell_type": "code",
      "source": [
        "np.sum(df_embed_inductive.index == starting_nodes)"
      ],
      "metadata": {
        "colab": {
          "base_uri": "https://localhost:8080/"
        },
        "id": "06ayIrLXWO4q",
        "outputId": "94baf62c-8769-486e-9859-4c84bc771278"
      },
      "execution_count": null,
      "outputs": [
        {
          "output_type": "execute_result",
          "data": {
            "text/plain": [
              "1535"
            ]
          },
          "metadata": {},
          "execution_count": 66
        }
      ]
    },
    {
      "cell_type": "code",
      "source": [
        "import seaborn as sns\n",
        "from sklearn.manifold import TSNE\n",
        "X_embedded = TSNE(n_components=2, learning_rate='auto',\n",
        "                  init='random').fit_transform(df_embed_inductive)\n",
        "\n",
        "df_tsne = pd.DataFrame(X_embedded)\n",
        "df_tsne['label'] = labels\n",
        "sns.scatterplot(data=df_tsne, x=0, y=1, hue=\"label\")"
      ],
      "metadata": {
        "colab": {
          "base_uri": "https://localhost:8080/",
          "height": 297
        },
        "id": "pQ4WuilfWvB_",
        "outputId": "1f2b5cf0-ad94-474c-ce69-6c29856fbd49"
      },
      "execution_count": null,
      "outputs": [
        {
          "output_type": "execute_result",
          "data": {
            "text/plain": [
              "<matplotlib.axes._subplots.AxesSubplot at 0x7f1cbc6c7c50>"
            ]
          },
          "metadata": {},
          "execution_count": 67
        },
        {
          "output_type": "display_data",
          "data": {
            "text/plain": [
              "<Figure size 432x288 with 1 Axes>"
            ],
            "image/png": "[encoded data removed]"
          },
          "metadata": {
            "needs_background": "light"
          }
        }
      ]
    },
    {
      "cell_type": "markdown",
      "source": [
        "## Avaliando conjuntamente"
      ],
      "metadata": {
        "id": "6_cmoSstWw_p"
      }
    },
    {
      "cell_type": "code",
      "source": [
        "df_embed = pd.concat([df_embed_transductive, df_embed_inductive])\n",
        "df_embed.shape"
      ],
      "metadata": {
        "colab": {
          "base_uri": "https://localhost:8080/"
        },
        "id": "JbnvlBZZW_JL",
        "outputId": "ccb4da77-15b0-4599-df6c-8eefb9de26e6"
      },
      "execution_count": null,
      "outputs": [
        {
          "output_type": "execute_result",
          "data": {
            "text/plain": [
              "(7674, 32)"
            ]
          },
          "metadata": {},
          "execution_count": 68
        }
      ]
    },
    {
      "cell_type": "code",
      "source": [
        "df_embed.head()"
      ],
      "metadata": {
        "colab": {
          "base_uri": "https://localhost:8080/"
        },
        "id": "lTuw4n_sok9R",
        "outputId": "14243917-2bbe-4eb3-9d9c-abe9c47d98c9"
      },
      "execution_count": null,
      "outputs": [
        {
          "output_type": "execute_result",
          "data": {
            "text/plain": [
              "(7674, 32)"
            ]
          },
          "metadata": {},
          "execution_count": 69
        }
      ]
    },
    {
      "cell_type": "code",
      "source": [
        "labels = df.iloc[df_embed.index].label.to_list()\n",
        "evaluate(df_embed, labels)"
      ],
      "metadata": {
        "colab": {
          "base_uri": "https://localhost:8080/"
        },
        "id": "_1qaTYp6XmTY",
        "outputId": "f1d8997f-0918-48c5-8882-bdc388a291be"
      },
      "execution_count": null,
      "outputs": [
        {
          "output_type": "stream",
          "name": "stdout",
          "text": [
            "\n",
            "\n",
            "\n",
            "---> DeepWalk Transformers (classification)\n",
            "              precision    recall  f1-score   support\n",
            "\n",
            "           0       0.73      0.85      0.79       682\n",
            "           1       0.47      0.06      0.11       116\n",
            "           2       0.88      0.89      0.88      1167\n",
            "           3       0.00      0.00      0.00        18\n",
            "           4       0.38      0.11      0.17        90\n",
            "           5       0.00      0.00      0.00        83\n",
            "           6       0.00      0.00      0.00        48\n",
            "           7       0.28      0.78      0.41        99\n",
            "\n",
            "    accuracy                           0.74      2303\n",
            "   macro avg       0.34      0.34      0.29      2303\n",
            "weighted avg       0.71      0.74      0.71      2303\n",
            "\n"
          ]
        },
        {
          "output_type": "stream",
          "name": "stderr",
          "text": [
            "/usr/local/lib/python3.7/dist-packages/sklearn/svm/_base.py:1208: ConvergenceWarning: Liblinear failed to converge, increase the number of iterations.\n",
            "  ConvergenceWarning,\n",
            "/usr/local/lib/python3.7/dist-packages/sklearn/metrics/_classification.py:1318: UndefinedMetricWarning: Precision and F-score are ill-defined and being set to 0.0 in labels with no predicted samples. Use `zero_division` parameter to control this behavior.\n",
            "  _warn_prf(average, modifier, msg_start, len(result))\n",
            "/usr/local/lib/python3.7/dist-packages/sklearn/metrics/_classification.py:1318: UndefinedMetricWarning: Precision and F-score are ill-defined and being set to 0.0 in labels with no predicted samples. Use `zero_division` parameter to control this behavior.\n",
            "  _warn_prf(average, modifier, msg_start, len(result))\n",
            "/usr/local/lib/python3.7/dist-packages/sklearn/metrics/_classification.py:1318: UndefinedMetricWarning: Precision and F-score are ill-defined and being set to 0.0 in labels with no predicted samples. Use `zero_division` parameter to control this behavior.\n",
            "  _warn_prf(average, modifier, msg_start, len(result))\n"
          ]
        }
      ]
    },
    {
      "cell_type": "code",
      "source": [
        "import seaborn as sns\n",
        "from sklearn.manifold import TSNE\n",
        "X_embedded = TSNE(n_components=2, learning_rate='auto',\n",
        "                  init='random').fit_transform(df_embed)\n",
        "\n",
        "df_tsne = pd.DataFrame(X_embedded)\n",
        "df_tsne['label'] = labels\n",
        "sns.scatterplot(data=df_tsne, x=0, y=1, hue=\"label\")"
      ],
      "metadata": {
        "colab": {
          "base_uri": "https://localhost:8080/",
          "height": 297
        },
        "id": "MHKXzk3vXxoI",
        "outputId": "45066404-b414-442c-c698-1a7487bd9e40"
      },
      "execution_count": null,
      "outputs": [
        {
          "output_type": "execute_result",
          "data": {
            "text/plain": [
              "<matplotlib.axes._subplots.AxesSubplot at 0x7f1cbc569850>"
            ]
          },
          "metadata": {},
          "execution_count": 71
        },
        {
          "output_type": "display_data",
          "data": {
            "text/plain": [
              "<Figure size 432x288 with 1 Axes>"
            ],
            "image/png": "[encoded data removed]"
          },
          "metadata": {
            "needs_background": "light"
          }
        }
      ]
    }
  ],
  "metadata": {
    "accelerator": "GPU",
    "colab": {
      "collapsed_sections": [],
      "provenance": []
    },
    "kernelspec": {
      "display_name": "Python 3",
      "name": "python3"
    },
    "language_info": {
      "name": "python"
    },
    "widgets": {
      "application/vnd.jupyter.widget-state+json": {
        "fafebf1b5b884146b3d3bb7b32698e41": {
          "model_module": "@jupyter-widgets/controls",
          "model_name": "HBoxModel",
          "model_module_version": "1.5.0",
          "state": {
            "_dom_classes": [],
            "_model_module": "@jupyter-widgets/controls",
            "_model_module_version": "1.5.0",
            "_model_name": "HBoxModel",
            "_view_count": null,
            "_view_module": "@jupyter-widgets/controls",
            "_view_module_version": "1.5.0",
            "_view_name": "HBoxView",
            "box_style": "",
            "children": [
              "IPY_MODEL_c7e30669c73f449d8485b0e98f16a1f9",
              "IPY_MODEL_fd7bef9201954088af7550e4e652c4d3",
              "IPY_MODEL_1982345478854bbd9b3166eaf7857da6"
            ],
            "layout": "IPY_MODEL_3d4481f96ee24b4a819a01ba1518135c"
          }
        },
        "c7e30669c73f449d8485b0e98f16a1f9": {
          "model_module": "@jupyter-widgets/controls",
          "model_name": "HTMLModel",
          "model_module_version": "1.5.0",
          "state": {
            "_dom_classes": [],
            "_model_module": "@jupyter-widgets/controls",
            "_model_module_version": "1.5.0",
            "_model_name": "HTMLModel",
            "_view_count": null,
            "_view_module": "@jupyter-widgets/controls",
            "_view_module_version": "1.5.0",
            "_view_name": "HTMLView",
            "description": "",
            "description_tooltip": null,
            "layout": "IPY_MODEL_7a9e8468ed0f445d86b2267bb12d097e",
            "placeholder": "​",
            "style": "IPY_MODEL_bd4df2fe22be447f922916974e03c420",
            "value": "Building X_paths and X_positions: 100%"
          }
        },
        "fd7bef9201954088af7550e4e652c4d3": {
          "model_module": "@jupyter-widgets/controls",
          "model_name": "FloatProgressModel",
          "model_module_version": "1.5.0",
          "state": {
            "_dom_classes": [],
            "_model_module": "@jupyter-widgets/controls",
            "_model_module_version": "1.5.0",
            "_model_name": "FloatProgressModel",
            "_view_count": null,
            "_view_module": "@jupyter-widgets/controls",
            "_view_module_version": "1.5.0",
            "_view_name": "ProgressView",
            "bar_style": "success",
            "description": "",
            "description_tooltip": null,
            "layout": "IPY_MODEL_536e0438246a4aa380457a54ef2e47a7",
            "max": 306950,
            "min": 0,
            "orientation": "horizontal",
            "style": "IPY_MODEL_056cec44299d45069bab6511893a2554",
            "value": 306950
          }
        },
        "1982345478854bbd9b3166eaf7857da6": {
          "model_module": "@jupyter-widgets/controls",
          "model_name": "HTMLModel",
          "model_module_version": "1.5.0",
          "state": {
            "_dom_classes": [],
            "_model_module": "@jupyter-widgets/controls",
            "_model_module_version": "1.5.0",
            "_model_name": "HTMLModel",
            "_view_count": null,
            "_view_module": "@jupyter-widgets/controls",
            "_view_module_version": "1.5.0",
            "_view_name": "HTMLView",
            "description": "",
            "description_tooltip": null,
            "layout": "IPY_MODEL_a793fe639b9d4ac8b8beac2fadb830aa",
            "placeholder": "​",
            "style": "IPY_MODEL_ee00ac99814d4969bf213c44f02fda7c",
            "value": " 306950/306950 [02:18&lt;00:00, 3094.95it/s]"
          }
        },
        "3d4481f96ee24b4a819a01ba1518135c": {
          "model_module": "@jupyter-widgets/base",
          "model_name": "LayoutModel",
          "model_module_version": "1.2.0",
          "state": {
            "_model_module": "@jupyter-widgets/base",
            "_model_module_version": "1.2.0",
            "_model_name": "LayoutModel",
            "_view_count": null,
            "_view_module": "@jupyter-widgets/base",
            "_view_module_version": "1.2.0",
            "_view_name": "LayoutView",
            "align_content": null,
            "align_items": null,
            "align_self": null,
            "border": null,
            "bottom": null,
            "display": null,
            "flex": null,
            "flex_flow": null,
            "grid_area": null,
            "grid_auto_columns": null,
            "grid_auto_flow": null,
            "grid_auto_rows": null,
            "grid_column": null,
            "grid_gap": null,
            "grid_row": null,
            "grid_template_areas": null,
            "grid_template_columns": null,
            "grid_template_rows": null,
            "height": null,
            "justify_content": null,
            "justify_items": null,
            "left": null,
            "margin": null,
            "max_height": null,
            "max_width": null,
            "min_height": null,
            "min_width": null,
            "object_fit": null,
            "object_position": null,
            "order": null,
            "overflow": null,
            "overflow_x": null,
            "overflow_y": null,
            "padding": null,
            "right": null,
            "top": null,
            "visibility": null,
            "width": null
          }
        },
        "7a9e8468ed0f445d86b2267bb12d097e": {
          "model_module": "@jupyter-widgets/base",
          "model_name": "LayoutModel",
          "model_module_version": "1.2.0",
          "state": {
            "_model_module": "@jupyter-widgets/base",
            "_model_module_version": "1.2.0",
            "_model_name": "LayoutModel",
            "_view_count": null,
            "_view_module": "@jupyter-widgets/base",
            "_view_module_version": "1.2.0",
            "_view_name": "LayoutView",
            "align_content": null,
            "align_items": null,
            "align_self": null,
            "border": null,
            "bottom": null,
            "display": null,
            "flex": null,
            "flex_flow": null,
            "grid_area": null,
            "grid_auto_columns": null,
            "grid_auto_flow": null,
            "grid_auto_rows": null,
            "grid_column": null,
            "grid_gap": null,
            "grid_row": null,
            "grid_template_areas": null,
            "grid_template_columns": null,
            "grid_template_rows": null,
            "height": null,
            "justify_content": null,
            "justify_items": null,
            "left": null,
            "margin": null,
            "max_height": null,
            "max_width": null,
            "min_height": null,
            "min_width": null,
            "object_fit": null,
            "object_position": null,
            "order": null,
            "overflow": null,
            "overflow_x": null,
            "overflow_y": null,
            "padding": null,
            "right": null,
            "top": null,
            "visibility": null,
            "width": null
          }
        },
        "bd4df2fe22be447f922916974e03c420": {
          "model_module": "@jupyter-widgets/controls",
          "model_name": "DescriptionStyleModel",
          "model_module_version": "1.5.0",
          "state": {
            "_model_module": "@jupyter-widgets/controls",
            "_model_module_version": "1.5.0",
            "_model_name": "DescriptionStyleModel",
            "_view_count": null,
            "_view_module": "@jupyter-widgets/base",
            "_view_module_version": "1.2.0",
            "_view_name": "StyleView",
            "description_width": ""
          }
        },
        "536e0438246a4aa380457a54ef2e47a7": {
          "model_module": "@jupyter-widgets/base",
          "model_name": "LayoutModel",
          "model_module_version": "1.2.0",
          "state": {
            "_model_module": "@jupyter-widgets/base",
            "_model_module_version": "1.2.0",
            "_model_name": "LayoutModel",
            "_view_count": null,
            "_view_module": "@jupyter-widgets/base",
            "_view_module_version": "1.2.0",
            "_view_name": "LayoutView",
            "align_content": null,
            "align_items": null,
            "align_self": null,
            "border": null,
            "bottom": null,
            "display": null,
            "flex": null,
            "flex_flow": null,
            "grid_area": null,
            "grid_auto_columns": null,
            "grid_auto_flow": null,
            "grid_auto_rows": null,
            "grid_column": null,
            "grid_gap": null,
            "grid_row": null,
            "grid_template_areas": null,
            "grid_template_columns": null,
            "grid_template_rows": null,
            "height": null,
            "justify_content": null,
            "justify_items": null,
            "left": null,
            "margin": null,
            "max_height": null,
            "max_width": null,
            "min_height": null,
            "min_width": null,
            "object_fit": null,
            "object_position": null,
            "order": null,
            "overflow": null,
            "overflow_x": null,
            "overflow_y": null,
            "padding": null,
            "right": null,
            "top": null,
            "visibility": null,
            "width": null
          }
        },
        "056cec44299d45069bab6511893a2554": {
          "model_module": "@jupyter-widgets/controls",
          "model_name": "ProgressStyleModel",
          "model_module_version": "1.5.0",
          "state": {
            "_model_module": "@jupyter-widgets/controls",
            "_model_module_version": "1.5.0",
            "_model_name": "ProgressStyleModel",
            "_view_count": null,
            "_view_module": "@jupyter-widgets/base",
            "_view_module_version": "1.2.0",
            "_view_name": "StyleView",
            "bar_color": null,
            "description_width": ""
          }
        },
        "a793fe639b9d4ac8b8beac2fadb830aa": {
          "model_module": "@jupyter-widgets/base",
          "model_name": "LayoutModel",
          "model_module_version": "1.2.0",
          "state": {
            "_model_module": "@jupyter-widgets/base",
            "_model_module_version": "1.2.0",
            "_model_name": "LayoutModel",
            "_view_count": null,
            "_view_module": "@jupyter-widgets/base",
            "_view_module_version": "1.2.0",
            "_view_name": "LayoutView",
            "align_content": null,
            "align_items": null,
            "align_self": null,
            "border": null,
            "bottom": null,
            "display": null,
            "flex": null,
            "flex_flow": null,
            "grid_area": null,
            "grid_auto_columns": null,
            "grid_auto_flow": null,
            "grid_auto_rows": null,
            "grid_column": null,
            "grid_gap": null,
            "grid_row": null,
            "grid_template_areas": null,
            "grid_template_columns": null,
            "grid_template_rows": null,
            "height": null,
            "justify_content": null,
            "justify_items": null,
            "left": null,
            "margin": null,
            "max_height": null,
            "max_width": null,
            "min_height": null,
            "min_width": null,
            "object_fit": null,
            "object_position": null,
            "order": null,
            "overflow": null,
            "overflow_x": null,
            "overflow_y": null,
            "padding": null,
            "right": null,
            "top": null,
            "visibility": null,
            "width": null
          }
        },
        "ee00ac99814d4969bf213c44f02fda7c": {
          "model_module": "@jupyter-widgets/controls",
          "model_name": "DescriptionStyleModel",
          "model_module_version": "1.5.0",
          "state": {
            "_model_module": "@jupyter-widgets/controls",
            "_model_module_version": "1.5.0",
            "_model_name": "DescriptionStyleModel",
            "_view_count": null,
            "_view_module": "@jupyter-widgets/base",
            "_view_module_version": "1.2.0",
            "_view_name": "StyleView",
            "description_width": ""
          }
        },
        "49276fb923e24ba684f13dfd43092492": {
          "model_module": "@jupyter-widgets/controls",
          "model_name": "HBoxModel",
          "model_module_version": "1.5.0",
          "state": {
            "_dom_classes": [],
            "_model_module": "@jupyter-widgets/controls",
            "_model_module_version": "1.5.0",
            "_model_name": "HBoxModel",
            "_view_count": null,
            "_view_module": "@jupyter-widgets/controls",
            "_view_module_version": "1.5.0",
            "_view_name": "HBoxView",
            "box_style": "",
            "children": [
              "IPY_MODEL_bb79a362c8854bbbacdd5255866b5b94",
              "IPY_MODEL_d18feaf4bd404790b0ef595f04d2445d",
              "IPY_MODEL_b982db78fad24a199936a6fa17d9db5d"
            ],
            "layout": "IPY_MODEL_76f6617000fe4708bd5931cf6259a4e9"
          }
        },
        "bb79a362c8854bbbacdd5255866b5b94": {
          "model_module": "@jupyter-widgets/controls",
          "model_name": "HTMLModel",
          "model_module_version": "1.5.0",
          "state": {
            "_dom_classes": [],
            "_model_module": "@jupyter-widgets/controls",
            "_model_module_version": "1.5.0",
            "_model_name": "HTMLModel",
            "_view_count": null,
            "_view_module": "@jupyter-widgets/controls",
            "_view_module_version": "1.5.0",
            "_view_name": "HTMLView",
            "description": "",
            "description_tooltip": null,
            "layout": "IPY_MODEL_763c8a70651d43c989a18176262fc647",
            "placeholder": "​",
            "style": "IPY_MODEL_1506c921181b49a19ba185e3d89177eb",
            "value": "Building X_paths and X_positions: 100%"
          }
        },
        "d18feaf4bd404790b0ef595f04d2445d": {
          "model_module": "@jupyter-widgets/controls",
          "model_name": "FloatProgressModel",
          "model_module_version": "1.5.0",
          "state": {
            "_dom_classes": [],
            "_model_module": "@jupyter-widgets/controls",
            "_model_module_version": "1.5.0",
            "_model_name": "FloatProgressModel",
            "_view_count": null,
            "_view_module": "@jupyter-widgets/controls",
            "_view_module_version": "1.5.0",
            "_view_name": "ProgressView",
            "bar_style": "success",
            "description": "",
            "description_tooltip": null,
            "layout": "IPY_MODEL_62bb1bd404044488b7c580e7a11c4abe",
            "max": 76750,
            "min": 0,
            "orientation": "horizontal",
            "style": "IPY_MODEL_3ac2f2d17189480693e20314f49f018f",
            "value": 76750
          }
        },
        "b982db78fad24a199936a6fa17d9db5d": {
          "model_module": "@jupyter-widgets/controls",
          "model_name": "HTMLModel",
          "model_module_version": "1.5.0",
          "state": {
            "_dom_classes": [],
            "_model_module": "@jupyter-widgets/controls",
            "_model_module_version": "1.5.0",
            "_model_name": "HTMLModel",
            "_view_count": null,
            "_view_module": "@jupyter-widgets/controls",
            "_view_module_version": "1.5.0",
            "_view_name": "HTMLView",
            "description": "",
            "description_tooltip": null,
            "layout": "IPY_MODEL_9cde578117ff499aa68251e46ea8c37b",
            "placeholder": "​",
            "style": "IPY_MODEL_f7b922a57c0142c19b559d3e30fecdcd",
            "value": " 76750/76750 [00:28&lt;00:00, 2694.10it/s]"
          }
        },
        "76f6617000fe4708bd5931cf6259a4e9": {
          "model_module": "@jupyter-widgets/base",
          "model_name": "LayoutModel",
          "model_module_version": "1.2.0",
          "state": {
            "_model_module": "@jupyter-widgets/base",
            "_model_module_version": "1.2.0",
            "_model_name": "LayoutModel",
            "_view_count": null,
            "_view_module": "@jupyter-widgets/base",
            "_view_module_version": "1.2.0",
            "_view_name": "LayoutView",
            "align_content": null,
            "align_items": null,
            "align_self": null,
            "border": null,
            "bottom": null,
            "display": null,
            "flex": null,
            "flex_flow": null,
            "grid_area": null,
            "grid_auto_columns": null,
            "grid_auto_flow": null,
            "grid_auto_rows": null,
            "grid_column": null,
            "grid_gap": null,
            "grid_row": null,
            "grid_template_areas": null,
            "grid_template_columns": null,
            "grid_template_rows": null,
            "height": null,
            "justify_content": null,
            "justify_items": null,
            "left": null,
            "margin": null,
            "max_height": null,
            "max_width": null,
            "min_height": null,
            "min_width": null,
            "object_fit": null,
            "object_position": null,
            "order": null,
            "overflow": null,
            "overflow_x": null,
            "overflow_y": null,
            "padding": null,
            "right": null,
            "top": null,
            "visibility": null,
            "width": null
          }
        },
        "763c8a70651d43c989a18176262fc647": {
          "model_module": "@jupyter-widgets/base",
          "model_name": "LayoutModel",
          "model_module_version": "1.2.0",
          "state": {
            "_model_module": "@jupyter-widgets/base",
            "_model_module_version": "1.2.0",
            "_model_name": "LayoutModel",
            "_view_count": null,
            "_view_module": "@jupyter-widgets/base",
            "_view_module_version": "1.2.0",
            "_view_name": "LayoutView",
            "align_content": null,
            "align_items": null,
            "align_self": null,
            "border": null,
            "bottom": null,
            "display": null,
            "flex": null,
            "flex_flow": null,
            "grid_area": null,
            "grid_auto_columns": null,
            "grid_auto_flow": null,
            "grid_auto_rows": null,
            "grid_column": null,
            "grid_gap": null,
            "grid_row": null,
            "grid_template_areas": null,
            "grid_template_columns": null,
            "grid_template_rows": null,
            "height": null,
            "justify_content": null,
            "justify_items": null,
            "left": null,
            "margin": null,
            "max_height": null,
            "max_width": null,
            "min_height": null,
            "min_width": null,
            "object_fit": null,
            "object_position": null,
            "order": null,
            "overflow": null,
            "overflow_x": null,
            "overflow_y": null,
            "padding": null,
            "right": null,
            "top": null,
            "visibility": null,
            "width": null
          }
        },
        "1506c921181b49a19ba185e3d89177eb": {
          "model_module": "@jupyter-widgets/controls",
          "model_name": "DescriptionStyleModel",
          "model_module_version": "1.5.0",
          "state": {
            "_model_module": "@jupyter-widgets/controls",
            "_model_module_version": "1.5.0",
            "_model_name": "DescriptionStyleModel",
            "_view_count": null,
            "_view_module": "@jupyter-widgets/base",
            "_view_module_version": "1.2.0",
            "_view_name": "StyleView",
            "description_width": ""
          }
        },
        "62bb1bd404044488b7c580e7a11c4abe": {
          "model_module": "@jupyter-widgets/base",
          "model_name": "LayoutModel",
          "model_module_version": "1.2.0",
          "state": {
            "_model_module": "@jupyter-widgets/base",
            "_model_module_version": "1.2.0",
            "_model_name": "LayoutModel",
            "_view_count": null,
            "_view_module": "@jupyter-widgets/base",
            "_view_module_version": "1.2.0",
            "_view_name": "LayoutView",
            "align_content": null,
            "align_items": null,
            "align_self": null,
            "border": null,
            "bottom": null,
            "display": null,
            "flex": null,
            "flex_flow": null,
            "grid_area": null,
            "grid_auto_columns": null,
            "grid_auto_flow": null,
            "grid_auto_rows": null,
            "grid_column": null,
            "grid_gap": null,
            "grid_row": null,
            "grid_template_areas": null,
            "grid_template_columns": null,
            "grid_template_rows": null,
            "height": null,
            "justify_content": null,
            "justify_items": null,
            "left": null,
            "margin": null,
            "max_height": null,
            "max_width": null,
            "min_height": null,
            "min_width": null,
            "object_fit": null,
            "object_position": null,
            "order": null,
            "overflow": null,
            "overflow_x": null,
            "overflow_y": null,
            "padding": null,
            "right": null,
            "top": null,
            "visibility": null,
            "width": null
          }
        },
        "3ac2f2d17189480693e20314f49f018f": {
          "model_module": "@jupyter-widgets/controls",
          "model_name": "ProgressStyleModel",
          "model_module_version": "1.5.0",
          "state": {
            "_model_module": "@jupyter-widgets/controls",
            "_model_module_version": "1.5.0",
            "_model_name": "ProgressStyleModel",
            "_view_count": null,
            "_view_module": "@jupyter-widgets/base",
            "_view_module_version": "1.2.0",
            "_view_name": "StyleView",
            "bar_color": null,
            "description_width": ""
          }
        },
        "9cde578117ff499aa68251e46ea8c37b": {
          "model_module": "@jupyter-widgets/base",
          "model_name": "LayoutModel",
          "model_module_version": "1.2.0",
          "state": {
            "_model_module": "@jupyter-widgets/base",
            "_model_module_version": "1.2.0",
            "_model_name": "LayoutModel",
            "_view_count": null,
            "_view_module": "@jupyter-widgets/base",
            "_view_module_version": "1.2.0",
            "_view_name": "LayoutView",
            "align_content": null,
            "align_items": null,
            "align_self": null,
            "border": null,
            "bottom": null,
            "display": null,
            "flex": null,
            "flex_flow": null,
            "grid_area": null,
            "grid_auto_columns": null,
            "grid_auto_flow": null,
            "grid_auto_rows": null,
            "grid_column": null,
            "grid_gap": null,
            "grid_row": null,
            "grid_template_areas": null,
            "grid_template_columns": null,
            "grid_template_rows": null,
            "height": null,
            "justify_content": null,
            "justify_items": null,
            "left": null,
            "margin": null,
            "max_height": null,
            "max_width": null,
            "min_height": null,
            "min_width": null,
            "object_fit": null,
            "object_position": null,
            "order": null,
            "overflow": null,
            "overflow_x": null,
            "overflow_y": null,
            "padding": null,
            "right": null,
            "top": null,
            "visibility": null,
            "width": null
          }
        },
        "f7b922a57c0142c19b559d3e30fecdcd": {
          "model_module": "@jupyter-widgets/controls",
          "model_name": "DescriptionStyleModel",
          "model_module_version": "1.5.0",
          "state": {
            "_model_module": "@jupyter-widgets/controls",
            "_model_module_version": "1.5.0",
            "_model_name": "DescriptionStyleModel",
            "_view_count": null,
            "_view_module": "@jupyter-widgets/base",
            "_view_module_version": "1.2.0",
            "_view_name": "StyleView",
            "description_width": ""
          }
        }
      }
    },
    "gpuClass": "standard"
  },
  "nbformat": 4,
  "nbformat_minor": 0
}